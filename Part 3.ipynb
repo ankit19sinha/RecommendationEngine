{
 "cells": [
  {
   "cell_type": "markdown",
   "metadata": {},
   "source": [
    "# Model Building (contd.)\n",
    "\n",
    "In the last part we built half of the recommendation engine. Now in this part we'll build the other half. The purpose of this engine will be to recommend problems solved by users of a higher expertise level to users that have points higher than average in their respective domains (FLTA, LTA, GTA). Let's start building this other half.\n",
    "\n",
    "## Engine - II\n",
    "\n",
    "The functioning of this engine can again be better explained with a flowchart as follows:"
   ]
  },
  {
   "cell_type": "markdown",
   "metadata": {},
   "source": [
    "<img src=\"RE2.png\">"
   ]
  },
  {
   "cell_type": "markdown",
   "metadata": {},
   "source": [
    "As you can see this is pretty straightforward engine as compared to the previous one. It's functioning will require only minor modification in the previous part's functions. Let's start with the first one of finding users from the next domain.\n",
    "\n",
    "Finding the next subsequent domain is pretty straightforward since we have an increasing relationship as follows:\n",
    "    1. FLTA < LTA < GTA < FGTA\n",
    "    2. Beginner < Intermediate < Advanced < Expert\n",
    "    \n",
    "But one other thing we have to take into consideration is some sort of similarity measure like in the previous function we had the difference of total_points that served as a similarity measure. Here, of course, we can't use the same variable. Instead, we will use the success_rate because that will eliminate the obvious, and possibly large difference in points."
   ]
  },
  {
   "cell_type": "code",
   "execution_count": 1,
   "metadata": {},
   "outputs": [],
   "source": [
    "#Setting the path\n",
    "setwd(\"/home/ankit19/Desktop/Jupyter_Notebooks/Recommendation Engine\")\n",
    "\n",
    "#Importing data\n",
    "UserData = read.csv(\"data/ProcessedUserData.csv\", stringsAsFactors=F)\n",
    "ProblemData = read.csv(\"data/ProcessedProblemData.csv\", stringsAsFactors=F)\n",
    "SubmissionsData = read.csv(\"data/ProcessedSubmissionsData.csv\", stringsAsFactors=F)\n",
    "TestUsers = read.csv(\"data/TestUsers.csv\", stringsAsFactors=F)"
   ]
  },
  {
   "cell_type": "code",
   "execution_count": 2,
   "metadata": {},
   "outputs": [],
   "source": [
    "#Function for finding better users\n",
    "findBetterUsers = function(userID){\n",
    "    \n",
    "    #Get user information\n",
    "    userInfo = subset(UserData, user_id == userID)\n",
    "    \n",
    "    #Determine if the user is a learner or a player\n",
    "    if(userInfo$learner_player == \"learner\"){ \n",
    "        isLearnerPlayer = \"learner\";\n",
    "    }else{ \n",
    "        isLearnerPlayer = \"player\"\n",
    "    }\n",
    "    \n",
    "    #Find users that are either learner or player like the target user,\n",
    "    #of the next expertise, domain, and similar success rate\n",
    "    if(userInfo$expertise_level == \"beginner\"){ \n",
    "        nextLevel = \"intermediate\"\n",
    "    }else if(userInfo$expertise_level == \"intermediate\"){ \n",
    "        nextLevel = \"advanced\"\n",
    "    }else{ \n",
    "        nextLevel = \"expert\"\n",
    "    }\n",
    "\n",
    "    if(userInfo$level_of_points == \"GTA\"){ \n",
    "        nextDomain = \"LTA\"\n",
    "    }else{\n",
    "        nextDomain = \"GTA\"\n",
    "    }\n",
    "    \n",
    "    #Set of users that satisfy all of the conditions above\n",
    "    betterUsers = subset(UserData, \n",
    "                          expertise_level == nextLevel\n",
    "                          & learner_player == isLearnerPlayer\n",
    "                          & level_of_points == nextDomain, \n",
    "                          select = c(user_id, success_rate))\n",
    "    \n",
    "    #Calculate the absolute difference between in success_rate\n",
    "    #of all other users and target user\n",
    "    betterUsers$srate_diff = abs(betterUsers$success_rate - userInfo$success_rate)\n",
    "    \n",
    "    #Get all users that have least absolute difference and\n",
    "    #have success_rate higher or equal to the target user\n",
    "    betterUsers = subset(betterUsers, \n",
    "                          srate_diff == min(srate_diff)\n",
    "                          & success_rate >= userInfo$success_rate,\n",
    "                          select = c(user_id))\n",
    "    \n",
    "    #Remove rownames\n",
    "    rownames(betterUsers) = NULL\n",
    "    \n",
    "    #Combine the values into a list\n",
    "    betterUsersDetails = list(betterUsers, isLearnerPlayer)\n",
    "    names(betterUsersDetails) = c(\"betterUsers\", \"isLearnerPlayer\")\n",
    "    \n",
    "    #Return data\n",
    "    betterUsersDetails\n",
    "}"
   ]
  },
  {
   "cell_type": "code",
   "execution_count": 3,
   "metadata": {},
   "outputs": [
    {
     "data": {
      "text/html": [
       "<table>\n",
       "<thead><tr><th scope=col>user_id</th></tr></thead>\n",
       "<tbody>\n",
       "\t<tr><td>user_210 </td></tr>\n",
       "\t<tr><td>user_2427</td></tr>\n",
       "\t<tr><td>user_2015</td></tr>\n",
       "\t<tr><td>user_969 </td></tr>\n",
       "\t<tr><td>user_229 </td></tr>\n",
       "\t<tr><td>user_3136</td></tr>\n",
       "\t<tr><td>user_146 </td></tr>\n",
       "</tbody>\n",
       "</table>\n"
      ],
      "text/latex": [
       "\\begin{tabular}{r|l}\n",
       " user\\_id\\\\\n",
       "\\hline\n",
       "\t user\\_210 \\\\\n",
       "\t user\\_2427\\\\\n",
       "\t user\\_2015\\\\\n",
       "\t user\\_969 \\\\\n",
       "\t user\\_229 \\\\\n",
       "\t user\\_3136\\\\\n",
       "\t user\\_146 \\\\\n",
       "\\end{tabular}\n"
      ],
      "text/markdown": [
       "\n",
       "user_id | \n",
       "|---|---|---|---|---|---|---|\n",
       "| user_210  | \n",
       "| user_2427 | \n",
       "| user_2015 | \n",
       "| user_969  | \n",
       "| user_229  | \n",
       "| user_3136 | \n",
       "| user_146  | \n",
       "\n",
       "\n"
      ],
      "text/plain": [
       "  user_id  \n",
       "1 user_210 \n",
       "2 user_2427\n",
       "3 user_2015\n",
       "4 user_969 \n",
       "5 user_229 \n",
       "6 user_3136\n",
       "7 user_146 "
      ]
     },
     "metadata": {},
     "output_type": "display_data"
    },
    {
     "data": {
      "text/html": [
       "'learner'"
      ],
      "text/latex": [
       "'learner'"
      ],
      "text/markdown": [
       "'learner'"
      ],
      "text/plain": [
       "[1] \"learner\""
      ]
     },
     "metadata": {},
     "output_type": "display_data"
    }
   ],
   "source": [
    "#Calling the function\n",
    "betterUsersDetails = findBetterUsers(\"user_2039\")\n",
    "betterUsersDetails$betterUsers\n",
    "betterUsersDetails$isLearnerPlayer"
   ]
  },
  {
   "cell_type": "markdown",
   "metadata": {},
   "source": [
    "Similar to the previous function we get two outputs. One is the list of users in the upper level having similar success rate, while other describes if the user is a learner or a player. We'll use this information for finding problems solved by this better set of users that is best suited for our target player to help him level up. Now this function is the exact replica of the function that found unsolved problems attempted by similar users. The only difference here is that we are looking for problems that are unsolved, similar, and better in nature than the ones solved by our target user."
   ]
  },
  {
   "cell_type": "code",
   "execution_count": 4,
   "metadata": {},
   "outputs": [],
   "source": [
    "#Function for finding problems solved by users of higher expertise level\n",
    "findBetterProblems = function(userID, betterUsers, isLearnerPlayer){\n",
    "    #Get all submissions made by user\n",
    "    userSubmissions = subset(SubmissionsData, user_id == userID, select=c(problem_id))\n",
    "\n",
    "    #Get information on all submitted problems\n",
    "    userSubmissions = subset(ProblemData, problem_id %in% userSubmissions$problem_id)\n",
    "\n",
    "    if(isLearnerPlayer == \"learner\"){\n",
    "        #Get all unique tags the user's submissions have\n",
    "        #Tags are split on the comma delimiter and then unlisted\n",
    "        #Only unique values are stored\n",
    "        uSub_tags = unique(unlist(strsplit(userSubmissions$tags, \",\")))\n",
    "\n",
    "        #Get all the submissions made by similar users\n",
    "        #Exclude all those problems that are already solved by target user\n",
    "        otherSubmissions = subset(SubmissionsData, \n",
    "                                  (user_id %in% betterUsers$user_id) & \n",
    "                                  !(problem_id %in% userSubmissions$problem_id),\n",
    "                                  select=c(problem_id))\n",
    "\n",
    "        #Get information on the problems\n",
    "        otherSubmissions = subset(ProblemData, problem_id %in% otherSubmissions$problem_id, \n",
    "                                  select=c(problem_id, tags))\n",
    "        #Create a dummy column\n",
    "        otherSubmissions$similar = F\n",
    "\n",
    "        #For each problem check if their tags match to the tags of user's solved problems\n",
    "        #If they do, then store TRUE in the \"similar\" column\n",
    "        for(i in 1:nrow(otherSubmissions)){\n",
    "            tags = unique(unlist(strsplit(otherSubmissions[i, \"tags\"], \",\")))\n",
    "            if(length(intersect(uSub_tags, tags)) > 0){ otherSubmissions[i, \"similar\"] = T }\n",
    "        }\n",
    "\n",
    "        betterUnsolvedProblems = subset(otherSubmissions, similar == T, select=c(problem_id))\n",
    "        rownames(betterUnsolvedProblems) = NULL\n",
    "                 \n",
    "    }else{\n",
    "        #Get all the level_types user has attempted\n",
    "        uSub_levels = levels(factor(userSubmissions$level_type))\n",
    "\n",
    "        #Get all the submissions made by other users\n",
    "        #Exclude all those problems that are already solved by target user\n",
    "        otherSubmissions = subset(SubmissionsData, \n",
    "                                  (user_id %in% betterUsers$user_id) & \n",
    "                                  !(problem_id %in% userSubmissions$problem_id),\n",
    "                                  select=c(problem_id))\n",
    "\n",
    "        #Get information on the problems\n",
    "        otherSubmissions = subset(ProblemData, problem_id %in% otherSubmissions$problem_id)\n",
    "\n",
    "        #Get all those problems that are at least one of the level_type \n",
    "        #that the user has attempted so far\n",
    "        betterUnsolvedProblems = subset(otherSubmissions, level_type %in% uSub_levels, select=c(problem_id))\n",
    "        rownames(betterUnsolvedProblems) = NULL\n",
    "    }\n",
    "\n",
    "    #Return better unsolved problems\n",
    "    betterUnsolvedProblems   \n",
    "}"
   ]
  },
  {
   "cell_type": "code",
   "execution_count": 5,
   "metadata": {},
   "outputs": [
    {
     "data": {
      "text/html": [
       "218"
      ],
      "text/latex": [
       "218"
      ],
      "text/markdown": [
       "218"
      ],
      "text/plain": [
       "[1] 218"
      ]
     },
     "metadata": {},
     "output_type": "display_data"
    }
   ],
   "source": [
    "betterUnsolvedProblems = findBetterProblems(\"user_2039\", \n",
    "                                            betterUsersDetails$betterUsers, \n",
    "                                            betterUsersDetails$isLearnerPlayer)\n",
    "nrow(betterUnsolvedProblems)"
   ]
  },
  {
   "cell_type": "markdown",
   "metadata": {},
   "source": [
    "So the number of observations itself shows that there are over 200 problems that are solved by these users of the next level that our target user can solve to achieve his desired level of expertise. Yet again, we'll make one function called as RecommendationEngine2 that will subsequently call these other two functions and form the second half of our intended recommendation engine."
   ]
  },
  {
   "cell_type": "code",
   "execution_count": 6,
   "metadata": {},
   "outputs": [],
   "source": [
    "RecommendationEngine2 = function(userID){\n",
    "    #Find users having similar success rate in the next level\n",
    "    betterUsersDetails = findBetterUsers(userID)\n",
    "    \n",
    "    #Find problems solved by the users of the aspired level\n",
    "    betterUnsolvedProblems = findBetterProblems(userID, \n",
    "                                                betterUsersDetails$betterUsers,\n",
    "                                                betterUsersDetails$isLearnerPlayer)\n",
    "    \n",
    "    #Get information on top 10 problems to recommend to the target user\n",
    "    recommendedProblems = subset(ProblemData, problem_id %in% betterUnsolvedProblems$problem_id)\n",
    "    recommendedProblems = head(recommendedProblems, 10)\n",
    "    rownames(recommendedProblems) = NULL\n",
    "    \n",
    "    #Return the recommended problems\n",
    "    recommendedProblems\n",
    "}"
   ]
  },
  {
   "cell_type": "code",
   "execution_count": 7,
   "metadata": {},
   "outputs": [
    {
     "data": {
      "text/html": [
       "<table>\n",
       "<thead><tr><th scope=col>problem_id</th><th scope=col>level_type</th><th scope=col>points</th><th scope=col>tags</th></tr></thead>\n",
       "<tbody>\n",
       "\t<tr><td>prob_3750                                         </td><td>B                                                 </td><td> 500                                              </td><td>math                                              </td></tr>\n",
       "\t<tr><td>prob_75                                           </td><td>A                                                 </td><td> 250                                              </td><td>implementation                                    </td></tr>\n",
       "\t<tr><td>prob_226                                          </td><td>A                                                 </td><td> 250                                              </td><td>brute force,implementation,sortings               </td></tr>\n",
       "\t<tr><td>prob_4862                                         </td><td>B                                                 </td><td> 500                                              </td><td>binary search,greedy                              </td></tr>\n",
       "\t<tr><td>prob_3438                                         </td><td>A                                                 </td><td> 250                                              </td><td>implementation                                    </td></tr>\n",
       "\t<tr><td>prob_4320                                         </td><td>K                                                 </td><td>2750                                              </td><td>MISC                                              </td></tr>\n",
       "\t<tr><td>prob_3431                                         </td><td>C                                                 </td><td> 750                                              </td><td>brute force,constructive algorithms,implementation</td></tr>\n",
       "\t<tr><td>prob_6007                                         </td><td>F                                                 </td><td>1500                                              </td><td>math,two pointers                                 </td></tr>\n",
       "\t<tr><td>prob_6126                                         </td><td>C                                                 </td><td> 750                                              </td><td>*special,constructive algorithms,greedy           </td></tr>\n",
       "\t<tr><td>prob_5646                                         </td><td>A                                                 </td><td> 250                                              </td><td>implementation,sortings                           </td></tr>\n",
       "</tbody>\n",
       "</table>\n"
      ],
      "text/latex": [
       "\\begin{tabular}{r|llll}\n",
       " problem\\_id & level\\_type & points & tags\\\\\n",
       "\\hline\n",
       "\t prob\\_3750                                        & B                                                  &  500                                               & math                                              \\\\\n",
       "\t prob\\_75                                          & A                                                  &  250                                               & implementation                                    \\\\\n",
       "\t prob\\_226                                         & A                                                  &  250                                               & brute force,implementation,sortings               \\\\\n",
       "\t prob\\_4862                                        & B                                                  &  500                                               & binary search,greedy                              \\\\\n",
       "\t prob\\_3438                                        & A                                                  &  250                                               & implementation                                    \\\\\n",
       "\t prob\\_4320                                        & K                                                  & 2750                                               & MISC                                              \\\\\n",
       "\t prob\\_3431                                        & C                                                  &  750                                               & brute force,constructive algorithms,implementation\\\\\n",
       "\t prob\\_6007                                        & F                                                  & 1500                                               & math,two pointers                                 \\\\\n",
       "\t prob\\_6126                                        & C                                                  &  750                                               & *special,constructive algorithms,greedy           \\\\\n",
       "\t prob\\_5646                                        & A                                                  &  250                                               & implementation,sortings                           \\\\\n",
       "\\end{tabular}\n"
      ],
      "text/markdown": [
       "\n",
       "problem_id | level_type | points | tags | \n",
       "|---|---|---|---|---|---|---|---|---|---|\n",
       "| prob_3750                                          | B                                                  |  500                                               | math                                               | \n",
       "| prob_75                                            | A                                                  |  250                                               | implementation                                     | \n",
       "| prob_226                                           | A                                                  |  250                                               | brute force,implementation,sortings                | \n",
       "| prob_4862                                          | B                                                  |  500                                               | binary search,greedy                               | \n",
       "| prob_3438                                          | A                                                  |  250                                               | implementation                                     | \n",
       "| prob_4320                                          | K                                                  | 2750                                               | MISC                                               | \n",
       "| prob_3431                                          | C                                                  |  750                                               | brute force,constructive algorithms,implementation | \n",
       "| prob_6007                                          | F                                                  | 1500                                               | math,two pointers                                  | \n",
       "| prob_6126                                          | C                                                  |  750                                               | *special,constructive algorithms,greedy            | \n",
       "| prob_5646                                          | A                                                  |  250                                               | implementation,sortings                            | \n",
       "\n",
       "\n"
      ],
      "text/plain": [
       "   problem_id level_type points\n",
       "1  prob_3750  B           500  \n",
       "2  prob_75    A           250  \n",
       "3  prob_226   A           250  \n",
       "4  prob_4862  B           500  \n",
       "5  prob_3438  A           250  \n",
       "6  prob_4320  K          2750  \n",
       "7  prob_3431  C           750  \n",
       "8  prob_6007  F          1500  \n",
       "9  prob_6126  C           750  \n",
       "10 prob_5646  A           250  \n",
       "   tags                                              \n",
       "1  math                                              \n",
       "2  implementation                                    \n",
       "3  brute force,implementation,sortings               \n",
       "4  binary search,greedy                              \n",
       "5  implementation                                    \n",
       "6  MISC                                              \n",
       "7  brute force,constructive algorithms,implementation\n",
       "8  math,two pointers                                 \n",
       "9  *special,constructive algorithms,greedy           \n",
       "10 implementation,sortings                           "
      ]
     },
     "metadata": {},
     "output_type": "display_data"
    },
    {
     "data": {
      "text/html": [
       "<table>\n",
       "<thead><tr><th scope=col>problem_id</th><th scope=col>level_type</th><th scope=col>points</th><th scope=col>tags</th></tr></thead>\n",
       "<tbody>\n",
       "\t<tr><td>prob_6007                                           </td><td>F                                                   </td><td>1500                                                </td><td>math,two pointers                                   </td></tr>\n",
       "\t<tr><td>prob_5427                                           </td><td>C                                                   </td><td> 750                                                </td><td>brute force,math,number theory,sortings,two pointers</td></tr>\n",
       "\t<tr><td>prob_2043                                           </td><td>F                                                   </td><td>1500                                                </td><td>MISC                                                </td></tr>\n",
       "\t<tr><td>prob_663                                            </td><td>B                                                   </td><td> 500                                                </td><td>brute force,implementation                          </td></tr>\n",
       "\t<tr><td>prob_3658                                           </td><td>C                                                   </td><td> 750                                                </td><td>brute force,dp                                      </td></tr>\n",
       "\t<tr><td>prob_361                                            </td><td>D                                                   </td><td>1000                                                </td><td>dfs and similar,dp,geometry,greedy,trees            </td></tr>\n",
       "\t<tr><td>prob_5565                                           </td><td>B                                                   </td><td> 500                                                </td><td>greedy                                              </td></tr>\n",
       "\t<tr><td>prob_3981                                           </td><td>A                                                   </td><td> 250                                                </td><td>MISC                                                </td></tr>\n",
       "\t<tr><td>prob_4283                                           </td><td>C                                                   </td><td> 750                                                </td><td>data structures,greedy,sortings                     </td></tr>\n",
       "\t<tr><td>prob_3524                                           </td><td>C                                                   </td><td> 750                                                </td><td>MISC                                                </td></tr>\n",
       "</tbody>\n",
       "</table>\n"
      ],
      "text/latex": [
       "\\begin{tabular}{r|llll}\n",
       " problem\\_id & level\\_type & points & tags\\\\\n",
       "\\hline\n",
       "\t prob\\_6007                                          & F                                                    & 1500                                                 & math,two pointers                                   \\\\\n",
       "\t prob\\_5427                                          & C                                                    &  750                                                 & brute force,math,number theory,sortings,two pointers\\\\\n",
       "\t prob\\_2043                                          & F                                                    & 1500                                                 & MISC                                                \\\\\n",
       "\t prob\\_663                                           & B                                                    &  500                                                 & brute force,implementation                          \\\\\n",
       "\t prob\\_3658                                          & C                                                    &  750                                                 & brute force,dp                                      \\\\\n",
       "\t prob\\_361                                           & D                                                    & 1000                                                 & dfs and similar,dp,geometry,greedy,trees            \\\\\n",
       "\t prob\\_5565                                          & B                                                    &  500                                                 & greedy                                              \\\\\n",
       "\t prob\\_3981                                          & A                                                    &  250                                                 & MISC                                                \\\\\n",
       "\t prob\\_4283                                          & C                                                    &  750                                                 & data structures,greedy,sortings                     \\\\\n",
       "\t prob\\_3524                                          & C                                                    &  750                                                 & MISC                                                \\\\\n",
       "\\end{tabular}\n"
      ],
      "text/markdown": [
       "\n",
       "problem_id | level_type | points | tags | \n",
       "|---|---|---|---|---|---|---|---|---|---|\n",
       "| prob_6007                                            | F                                                    | 1500                                                 | math,two pointers                                    | \n",
       "| prob_5427                                            | C                                                    |  750                                                 | brute force,math,number theory,sortings,two pointers | \n",
       "| prob_2043                                            | F                                                    | 1500                                                 | MISC                                                 | \n",
       "| prob_663                                             | B                                                    |  500                                                 | brute force,implementation                           | \n",
       "| prob_3658                                            | C                                                    |  750                                                 | brute force,dp                                       | \n",
       "| prob_361                                             | D                                                    | 1000                                                 | dfs and similar,dp,geometry,greedy,trees             | \n",
       "| prob_5565                                            | B                                                    |  500                                                 | greedy                                               | \n",
       "| prob_3981                                            | A                                                    |  250                                                 | MISC                                                 | \n",
       "| prob_4283                                            | C                                                    |  750                                                 | data structures,greedy,sortings                      | \n",
       "| prob_3524                                            | C                                                    |  750                                                 | MISC                                                 | \n",
       "\n",
       "\n"
      ],
      "text/plain": [
       "   problem_id level_type points\n",
       "1  prob_6007  F          1500  \n",
       "2  prob_5427  C           750  \n",
       "3  prob_2043  F          1500  \n",
       "4  prob_663   B           500  \n",
       "5  prob_3658  C           750  \n",
       "6  prob_361   D          1000  \n",
       "7  prob_5565  B           500  \n",
       "8  prob_3981  A           250  \n",
       "9  prob_4283  C           750  \n",
       "10 prob_3524  C           750  \n",
       "   tags                                                \n",
       "1  math,two pointers                                   \n",
       "2  brute force,math,number theory,sortings,two pointers\n",
       "3  MISC                                                \n",
       "4  brute force,implementation                          \n",
       "5  brute force,dp                                      \n",
       "6  dfs and similar,dp,geometry,greedy,trees            \n",
       "7  greedy                                              \n",
       "8  MISC                                                \n",
       "9  data structures,greedy,sortings                     \n",
       "10 MISC                                                "
      ]
     },
     "metadata": {},
     "output_type": "display_data"
    }
   ],
   "source": [
    "#Recommendations for test users 5 & 6\n",
    "RecommendationEngine2(\"user_2039\")\n",
    "RecommendationEngine2(\"user_436\")"
   ]
  },
  {
   "cell_type": "markdown",
   "metadata": {},
   "source": [
    "Now that we've made both the parts of the main recommendation engine, we must merge them into one main function and we must also define the condition that will invoke either of the two sub-engines. If we recall the purpose for two different engines were as follows:\n",
    "\n",
    "1. The first part applies to users who have fewer than average points in their given domain (FLTA, LTA, GTA) and are hence not close to leveling up. \n",
    "2. The second part applies to users who have points higher than the average points in their domain and hence are close to leveling up.\n",
    "    \n",
    "Thus we need a condition check of whether a user has lesser than or greater than average points in their respective expertise levels and domains. If we the target user has points lesser than or equal to the average points in that respective domain, then we invoke RecommendationEngine1, else we'll invoke RecommendationEngine2. The output of both the sub-engines will be a list of unsolved problems for the target users with complete information on the problems."
   ]
  }
 ],
 "metadata": {
  "kernelspec": {
   "display_name": "R",
   "language": "R",
   "name": "ir"
  },
  "language_info": {
   "codemirror_mode": "r",
   "file_extension": ".r",
   "mimetype": "text/x-r-source",
   "name": "R",
   "pygments_lexer": "r",
   "version": "3.4.3"
  }
 },
 "nbformat": 4,
 "nbformat_minor": 2
}
