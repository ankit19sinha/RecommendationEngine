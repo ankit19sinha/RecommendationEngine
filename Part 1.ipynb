{
 "cells": [
  {
   "cell_type": "markdown",
   "metadata": {},
   "source": [
    "# Introduction\n",
    "\n",
    "Recommendation Engines/Systems have become an integral part of our online interactions. From video streaming websites, to e-commerce, recommendation engines play an important role in enhancing user experience. In this problem, we have a website for competitive programming wherein users solve different programmatic problems and earn points to achieve different levels of expertise (beginner, intermediate, advanced, and expert). We will aim to build a recommendation engine for the users, based on their past behavior, to suggest them new problems to solve and hence keep them engaged on the website. We will first do some feature engineering and then proceed to build a recommendation engine based on a hybrid model.\n",
    "\n",
    "The data available to us is in three different files as following:\n",
    "    1. user_data:- information about different characteristics of all the users\n",
    "    2. problem_data:- information about different characteristics of all the problems\n",
    "    3. submissions_data:- list of all problems solved by a particular user.\n",
    "    \n",
    "So, as always, let's first start with looking for missing values and then move on to feature engineering.\n",
    "\n",
    "## Exploratory Data Analysis\n",
    " \n",
    "We'll import the data from csv files and store it in dataframes."
   ]
  },
  {
   "cell_type": "code",
   "execution_count": 1,
   "metadata": {},
   "outputs": [
    {
     "name": "stdout",
     "output_type": "stream",
     "text": [
      "[1] \"User information\"\n"
     ]
    },
    {
     "data": {
      "text/plain": [
       "   user_id          submission_count successful_submissions expertise_level   \n",
       " Length:3571        Min.   :   1.0   Min.   :   0.0         Length:3571       \n",
       " Class :character   1st Qu.:  66.5   1st Qu.:  53.0         Class :character  \n",
       " Mode  :character   Median : 169.0   Median : 146.0         Mode  :character  \n",
       "                    Mean   : 299.5   Mean   : 267.9                           \n",
       "                    3rd Qu.: 390.0   3rd Qu.: 349.0                           \n",
       "                    Max.   :4570.0   Max.   :4476.0                           "
      ]
     },
     "metadata": {},
     "output_type": "display_data"
    },
    {
     "name": "stdout",
     "output_type": "stream",
     "text": [
      "[1] \"Problem information\"\n"
     ]
    },
    {
     "data": {
      "text/plain": [
       "  problem_id         level_type            points         tags          \n",
       " Length:6544        Length:6544        Min.   : 250   Length:6544       \n",
       " Class :character   Class :character   1st Qu.: 500   Class :character  \n",
       " Mode  :character   Mode  :character   Median : 750   Mode  :character  \n",
       "                                       Mean   : 892                     \n",
       "                                       3rd Qu.:1250                     \n",
       "                                       Max.   :2000                     \n",
       "                                       NA's   :771                      "
      ]
     },
     "metadata": {},
     "output_type": "display_data"
    },
    {
     "name": "stdout",
     "output_type": "stream",
     "text": [
      "[1] \"Submission information\"\n"
     ]
    },
    {
     "data": {
      "text/plain": [
       "   user_id           problem_id       \n",
       " Length:155295      Length:155295     \n",
       " Class :character   Class :character  \n",
       " Mode  :character   Mode  :character  "
      ]
     },
     "metadata": {},
     "output_type": "display_data"
    }
   ],
   "source": [
    "#Setting the path\n",
    "setwd(\"/home/ankit19/Desktop/Jupyter_Notebooks/Recommendation Engine\")\n",
    "\n",
    "#Importing data\n",
    "UserData = read.csv(\"data/user_data.csv\", stringsAsFactors=F)\n",
    "ProblemData = read.csv(\"data/problem_data.csv\", stringsAsFactors=F)\n",
    "SubmissionsData = read.csv(\"data/submissions_data.csv\", stringsAsFactors=F)\n",
    "\n",
    "#Summarizing data\n",
    "print(\"User information\")\n",
    "summary(UserData)\n",
    "\n",
    "print(\"Problem information\")\n",
    "summary(ProblemData)\n",
    "\n",
    "print(\"Submission information\")\n",
    "summary(SubmissionsData)"
   ]
  },
  {
   "cell_type": "markdown",
   "metadata": {},
   "source": [
    "From the summary we get information of the number of NAs in numerical columns but we don't get any information on blank fields in character columns. Let's go through the columns of each dataframe to see number of blank fields."
   ]
  },
  {
   "cell_type": "code",
   "execution_count": 2,
   "metadata": {},
   "outputs": [
    {
     "name": "stdout",
     "output_type": "stream",
     "text": [
      "[1] \"User information\"\n",
      "[1] \"Blanks in user_id:  0\"\n",
      "[1] \"Blanks in expertise_level:  0\"\n"
     ]
    }
   ],
   "source": [
    "print(\"User information\")\n",
    "print(paste(\"Blanks in user_id: \", sum(grepl(\"^\\\\s*$\", UserData$user_id) == TRUE)))\n",
    "print(paste(\"Blanks in expertise_level: \", sum(grepl(\"^\\\\s*$\", UserData$expertise_level) == TRUE)))"
   ]
  },
  {
   "cell_type": "code",
   "execution_count": 3,
   "metadata": {},
   "outputs": [
    {
     "name": "stdout",
     "output_type": "stream",
     "text": [
      "[1] \"Problem information\"\n",
      "[1] \"Blanks in problem_id:  0\"\n",
      "[1] \"Blanks in level_type:  133\"\n",
      "[1] \"Blanks in tags:  3484\"\n"
     ]
    }
   ],
   "source": [
    "print(\"Problem information\")\n",
    "print(paste(\"Blanks in problem_id: \", sum(grepl(\"^\\\\s*$\", ProblemData$problem_id) == TRUE)))\n",
    "print(paste(\"Blanks in level_type: \", sum(grepl(\"^\\\\s*$\", ProblemData$level_type) == TRUE)))\n",
    "print(paste(\"Blanks in tags: \", sum(grepl(\"^\\\\s*$\", ProblemData$tags) == TRUE)))"
   ]
  },
  {
   "cell_type": "code",
   "execution_count": 4,
   "metadata": {},
   "outputs": [
    {
     "name": "stdout",
     "output_type": "stream",
     "text": [
      "[1] \"Submissions information\"\n",
      "[1] \"Blanks in user_id:  0\"\n",
      "[1] \"Blanks in problem_id:  0\"\n"
     ]
    }
   ],
   "source": [
    "print(\"Submissions information\")\n",
    "print(paste(\"Blanks in user_id: \", sum(grepl(\"^\\\\s*$\", SubmissionsData$user_id) == TRUE)))\n",
    "print(paste(\"Blanks in problem_id: \", sum(grepl(\"^\\\\s*$\", SubmissionsData$problem_id) == TRUE)))"
   ]
  },
  {
   "cell_type": "markdown",
   "metadata": {},
   "source": [
    "So only the ProblemData has NAs in \"level_type\", \"tags\", and \"points\" fields. We see that the number of blanks in tags is almost half of the total number of observations. We can choose to drop this column but I think we can extract valuable information about the problems for it so we won't go ahead and drop it directly but manipulate our dataframes and essentially clean them before we move on to building any models.\n",
    "\n",
    "## Data Manipulation\n",
    "\n",
    "In this subsection we'll deal with the missing values in ProblemData. First we will drop all such observations where we have missing values for \"level_type\", \"points\", and \"tags\". The reason for this is that these three columns define the problem and if an observation has missing values for all three of them then it becomes very difficult to impute values. One could impute \"points\" with the average or median value but that wouldn't be the best approach because it can be assumed that the points are directly proportional to difficulty level. Also, \"level_type\" cannot be imputed right away for similar reasons.\n",
    "\n",
    "We must keep this in mind that we will also have to drop the observations from SubmissionsData where \"problem_id\" is one of the IDs dropped from ProblemData. First let's get an idea of how many such observations exist in ProblemData."
   ]
  },
  {
   "cell_type": "code",
   "execution_count": 5,
   "metadata": {},
   "outputs": [],
   "source": [
    "#Substituting blanks\n",
    "ProblemData$level_type[grepl(\"^\\\\s*$\", ProblemData$level_type) == TRUE] = \"NA\"\n",
    "ProblemData$tags[grepl(\"^\\\\s*$\", ProblemData$tags) == TRUE] = \"MISC\""
   ]
  },
  {
   "cell_type": "code",
   "execution_count": 6,
   "metadata": {},
   "outputs": [
    {
     "name": "stderr",
     "output_type": "stream",
     "text": [
      "Warning message:\n",
      "“package ‘dplyr’ was built under R version 3.4.4”\n",
      "Attaching package: ‘dplyr’\n",
      "\n",
      "The following objects are masked from ‘package:stats’:\n",
      "\n",
      "    filter, lag\n",
      "\n",
      "The following objects are masked from ‘package:base’:\n",
      "\n",
      "    intersect, setdiff, setequal, union\n",
      "\n",
      "Warning message:\n",
      "“package ‘bindrcpp’ was built under R version 3.4.4”"
     ]
    },
    {
     "data": {
      "text/html": [
       "<table>\n",
       "<thead><tr><th scope=col>problem_id</th></tr></thead>\n",
       "<tbody>\n",
       "</tbody>\n",
       "</table>\n"
      ],
      "text/latex": [
       "\\begin{tabular}{r|l}\n",
       " problem\\_id\\\\\n",
       "\\hline\n",
       "\\end{tabular}\n"
      ],
      "text/markdown": [
       "\n",
       "problem_id | \n",
       "||\n",
       "\n",
       "\n"
      ],
      "text/plain": [
       "     problem_id"
      ]
     },
     "metadata": {},
     "output_type": "display_data"
    },
    {
     "data": {
      "text/html": [
       "0"
      ],
      "text/latex": [
       "0"
      ],
      "text/markdown": [
       "0"
      ],
      "text/plain": [
       "[1] 0"
      ]
     },
     "metadata": {},
     "output_type": "display_data"
    }
   ],
   "source": [
    "#Library for data manipulations\n",
    "library(dplyr)\n",
    "\n",
    "#Filtering out the blanks\n",
    "blanks = ProblemData %>%\n",
    "            filter(level_type == \"NA\" & is.na(points) & tags == \"MISC\") %>%\n",
    "            select(problem_id)\n",
    "\n",
    "head(blanks)\n",
    "nrow(blanks)"
   ]
  },
  {
   "cell_type": "markdown",
   "metadata": {},
   "source": [
    "As we can see there are no such IDs that satisfy the above condition hence we won't have to drop any observations in either of the tables. Let's move on to imputing missing values in level_type."
   ]
  },
  {
   "cell_type": "code",
   "execution_count": 7,
   "metadata": {},
   "outputs": [
    {
     "data": {
      "text/html": [
       "133"
      ],
      "text/latex": [
       "133"
      ],
      "text/markdown": [
       "133"
      ],
      "text/plain": [
       "[1] 133"
      ]
     },
     "metadata": {},
     "output_type": "display_data"
    }
   ],
   "source": [
    "sum(ProblemData$level_type == \"NA\")"
   ]
  },
  {
   "cell_type": "markdown",
   "metadata": {},
   "source": [
    "Although the number of missing values is relatively quite small to the total number of observations, we should see if we can impute these values. So let's start that by first getting an idea of the average points for each level_type."
   ]
  },
  {
   "cell_type": "code",
   "execution_count": 8,
   "metadata": {},
   "outputs": [
    {
     "data": {
      "text/html": [
       "<table>\n",
       "<thead><tr><th scope=col>level_type</th><th scope=col>mean_points</th></tr></thead>\n",
       "<tbody>\n",
       "\t<tr><td>A        </td><td> 250.0000</td></tr>\n",
       "\t<tr><td>B        </td><td> 500.0000</td></tr>\n",
       "\t<tr><td>C        </td><td> 750.0000</td></tr>\n",
       "\t<tr><td>D        </td><td>1000.0000</td></tr>\n",
       "\t<tr><td>E        </td><td>1250.0000</td></tr>\n",
       "\t<tr><td>F        </td><td>1500.0000</td></tr>\n",
       "\t<tr><td>G        </td><td>1750.0000</td></tr>\n",
       "\t<tr><td>H        </td><td>2000.0000</td></tr>\n",
       "\t<tr><td>I        </td><td>      NaN</td></tr>\n",
       "\t<tr><td>J        </td><td>      NaN</td></tr>\n",
       "\t<tr><td>K        </td><td>      NaN</td></tr>\n",
       "\t<tr><td>L        </td><td>      NaN</td></tr>\n",
       "\t<tr><td>M        </td><td>      NaN</td></tr>\n",
       "\t<tr><td>N        </td><td>      NaN</td></tr>\n",
       "\t<tr><td>NA       </td><td> 757.5188</td></tr>\n",
       "</tbody>\n",
       "</table>\n"
      ],
      "text/latex": [
       "\\begin{tabular}{r|ll}\n",
       " level\\_type & mean\\_points\\\\\n",
       "\\hline\n",
       "\t A         &  250.0000\\\\\n",
       "\t B         &  500.0000\\\\\n",
       "\t C         &  750.0000\\\\\n",
       "\t D         & 1000.0000\\\\\n",
       "\t E         & 1250.0000\\\\\n",
       "\t F         & 1500.0000\\\\\n",
       "\t G         & 1750.0000\\\\\n",
       "\t H         & 2000.0000\\\\\n",
       "\t I         &       NaN\\\\\n",
       "\t J         &       NaN\\\\\n",
       "\t K         &       NaN\\\\\n",
       "\t L         &       NaN\\\\\n",
       "\t M         &       NaN\\\\\n",
       "\t N         &       NaN\\\\\n",
       "\t NA        &  757.5188\\\\\n",
       "\\end{tabular}\n"
      ],
      "text/markdown": [
       "\n",
       "level_type | mean_points | \n",
       "|---|---|---|---|---|---|---|---|---|---|---|---|---|---|---|\n",
       "| A         |  250.0000 | \n",
       "| B         |  500.0000 | \n",
       "| C         |  750.0000 | \n",
       "| D         | 1000.0000 | \n",
       "| E         | 1250.0000 | \n",
       "| F         | 1500.0000 | \n",
       "| G         | 1750.0000 | \n",
       "| H         | 2000.0000 | \n",
       "| I         |       NaN | \n",
       "| J         |       NaN | \n",
       "| K         |       NaN | \n",
       "| L         |       NaN | \n",
       "| M         |       NaN | \n",
       "| N         |       NaN | \n",
       "| NA        |  757.5188 | \n",
       "\n",
       "\n"
      ],
      "text/plain": [
       "   level_type mean_points\n",
       "1  A           250.0000  \n",
       "2  B           500.0000  \n",
       "3  C           750.0000  \n",
       "4  D          1000.0000  \n",
       "5  E          1250.0000  \n",
       "6  F          1500.0000  \n",
       "7  G          1750.0000  \n",
       "8  H          2000.0000  \n",
       "9  I                NaN  \n",
       "10 J                NaN  \n",
       "11 K                NaN  \n",
       "12 L                NaN  \n",
       "13 M                NaN  \n",
       "14 N                NaN  \n",
       "15 NA          757.5188  "
      ]
     },
     "metadata": {},
     "output_type": "display_data"
    }
   ],
   "source": [
    "ProblemData %>%\n",
    "    group_by(level_type) %>%\n",
    "    summarize(mean_points = mean(points, na.rm=T))"
   ]
  },
  {
   "cell_type": "markdown",
   "metadata": {},
   "source": [
    "This confirms that with increasing level_type the points increase as well. Hence the difficulty level of a problem increases in that same order."
   ]
  },
  {
   "cell_type": "code",
   "execution_count": 9,
   "metadata": {},
   "outputs": [
    {
     "data": {
      "text/html": [
       "8"
      ],
      "text/latex": [
       "8"
      ],
      "text/markdown": [
       "8"
      ],
      "text/plain": [
       "[1] 8"
      ]
     },
     "metadata": {},
     "output_type": "display_data"
    },
    {
     "data": {
      "text/html": [
       "<ol class=list-inline>\n",
       "\t<li>'250'</li>\n",
       "\t<li>'500'</li>\n",
       "\t<li>'750'</li>\n",
       "\t<li>'1000'</li>\n",
       "\t<li>'1250'</li>\n",
       "\t<li>'1500'</li>\n",
       "\t<li>'1750'</li>\n",
       "\t<li>'2000'</li>\n",
       "</ol>\n"
      ],
      "text/latex": [
       "\\begin{enumerate*}\n",
       "\\item '250'\n",
       "\\item '500'\n",
       "\\item '750'\n",
       "\\item '1000'\n",
       "\\item '1250'\n",
       "\\item '1500'\n",
       "\\item '1750'\n",
       "\\item '2000'\n",
       "\\end{enumerate*}\n"
      ],
      "text/markdown": [
       "1. '250'\n",
       "2. '500'\n",
       "3. '750'\n",
       "4. '1000'\n",
       "5. '1250'\n",
       "6. '1500'\n",
       "7. '1750'\n",
       "8. '2000'\n",
       "\n",
       "\n"
      ],
      "text/plain": [
       "[1] \"250\"  \"500\"  \"750\"  \"1000\" \"1250\" \"1500\" \"1750\" \"2000\""
      ]
     },
     "metadata": {},
     "output_type": "display_data"
    }
   ],
   "source": [
    "points_levels = factor(ProblemData$points)\n",
    "nlevels(points_levels)\n",
    "levels(points_levels)"
   ]
  },
  {
   "cell_type": "markdown",
   "metadata": {},
   "source": [
    "Looking at the factors it becomes evident that with each level there's an increase in 250 points. Using that, we can extrapolate the points for the level_type after H. "
   ]
  },
  {
   "cell_type": "code",
   "execution_count": 10,
   "metadata": {},
   "outputs": [],
   "source": [
    "ProblemData$points[ProblemData$level_type == \"I\"] = 2250\n",
    "ProblemData$points[ProblemData$level_type == \"J\"] = 2500\n",
    "ProblemData$points[ProblemData$level_type == \"K\"] = 2750\n",
    "ProblemData$points[ProblemData$level_type == \"L\"] = 3000\n",
    "ProblemData$points[ProblemData$level_type == \"M\"] = 3250\n",
    "ProblemData$points[ProblemData$level_type == \"N\"] = 3500"
   ]
  },
  {
   "cell_type": "markdown",
   "metadata": {},
   "source": [
    "Now let's look at the missing values of level_type and see if we can assign them any appropriate value."
   ]
  },
  {
   "cell_type": "code",
   "execution_count": 11,
   "metadata": {},
   "outputs": [
    {
     "data": {
      "text/plain": [
       "   Min. 1st Qu.  Median    Mean 3rd Qu.    Max. \n",
       "  250.0   250.0  1000.0   757.5  1000.0  2000.0 "
      ]
     },
     "metadata": {},
     "output_type": "display_data"
    }
   ],
   "source": [
    "summary(ProblemData$points[ProblemData$level_type == \"NA\"])"
   ]
  },
  {
   "cell_type": "code",
   "execution_count": 12,
   "metadata": {},
   "outputs": [
    {
     "name": "stdout",
     "output_type": "stream",
     "text": [
      "[1] \"NAs having points <= 250:  51\"\n",
      "[1] \"NAs having points between 250 and 1000:  76\"\n",
      "[1] \"NAs having points greater than 1000:  6\"\n"
     ]
    }
   ],
   "source": [
    "#No of occurences in each quartiles\n",
    "print(paste(\"NAs having points <= 250: \", sum(ProblemData$level_type == \"NA\" & ProblemData$points <= 250)))\n",
    "print(paste(\"NAs having points between 250 and 1000: \", sum(ProblemData$level_type == \"NA\" & ProblemData$points > 250 & ProblemData$points <= 1000)))\n",
    "print(paste(\"NAs having points greater than 1000: \", sum(ProblemData$level_type == \"NA\" & ProblemData$points > 1000 & ProblemData$points <= 2000)))"
   ]
  },
  {
   "cell_type": "code",
   "execution_count": 13,
   "metadata": {},
   "outputs": [],
   "source": [
    "#Substituting NA with actual value\n",
    "ProblemData$level_type[ProblemData$level_type == \"NA\" & ProblemData$points == 250] = \"A\"\n",
    "ProblemData$level_type[ProblemData$level_type == \"NA\" & ProblemData$points == 1000] = \"D\"\n",
    "ProblemData$level_type[ProblemData$level_type == \"NA\" & ProblemData$points == 2000] = \"H\""
   ]
  },
  {
   "cell_type": "code",
   "execution_count": 14,
   "metadata": {},
   "outputs": [
    {
     "data": {
      "text/html": [
       "0"
      ],
      "text/latex": [
       "0"
      ],
      "text/markdown": [
       "0"
      ],
      "text/plain": [
       "[1] 0"
      ]
     },
     "metadata": {},
     "output_type": "display_data"
    }
   ],
   "source": [
    "#Checking for residual NA in level_type\n",
    "sum(ProblemData$level_type == \"NA\")"
   ]
  },
  {
   "cell_type": "markdown",
   "metadata": {},
   "source": [
    "Now all the null values have been eliminated from ProblemData.\n",
    "\n",
    "## Feature Engineering\n",
    "\n",
    "We will introduce some features in UserData to improve the performance of our recommendation engine. These features will be:\n",
    "    1. success_rate:- the ratio of success number of submissions to total submissions\n",
    "    2. learner_player:- is the user more inclined towards learning or more inclined towards competing?\n",
    "    3. level_up:- is the user about to level up to next expertise level?\n",
    "    \n",
    "We'll get to the hypothesis and procedure behind each of these features in the following sections. Let's start with the easiest feature, success_rate."
   ]
  },
  {
   "cell_type": "code",
   "execution_count": 15,
   "metadata": {},
   "outputs": [
    {
     "data": {
      "text/html": [
       "<table>\n",
       "<thead><tr><th scope=col>user_id</th><th scope=col>submission_count</th><th scope=col>successful_submissions</th><th scope=col>expertise_level</th><th scope=col>success_rate</th></tr></thead>\n",
       "<tbody>\n",
       "\t<tr><td>user_3311   </td><td> 47         </td><td> 40         </td><td>intermediate</td><td>0.85        </td></tr>\n",
       "\t<tr><td>user_3028   </td><td> 63         </td><td> 52         </td><td>intermediate</td><td>0.83        </td></tr>\n",
       "\t<tr><td>user_2268   </td><td>226         </td><td>203         </td><td>beginner    </td><td>0.90        </td></tr>\n",
       "\t<tr><td>user_480    </td><td>611         </td><td>490         </td><td>advanced    </td><td>0.80        </td></tr>\n",
       "\t<tr><td>user_650    </td><td>504         </td><td>479         </td><td>advanced    </td><td>0.95        </td></tr>\n",
       "\t<tr><td>user_3177   </td><td>  3         </td><td>  1         </td><td>intermediate</td><td>0.33        </td></tr>\n",
       "</tbody>\n",
       "</table>\n"
      ],
      "text/latex": [
       "\\begin{tabular}{r|lllll}\n",
       " user\\_id & submission\\_count & successful\\_submissions & expertise\\_level & success\\_rate\\\\\n",
       "\\hline\n",
       "\t user\\_3311  &  47          &  40          & intermediate & 0.85        \\\\\n",
       "\t user\\_3028  &  63          &  52          & intermediate & 0.83        \\\\\n",
       "\t user\\_2268  & 226          & 203          & beginner     & 0.90        \\\\\n",
       "\t user\\_480   & 611          & 490          & advanced     & 0.80        \\\\\n",
       "\t user\\_650   & 504          & 479          & advanced     & 0.95        \\\\\n",
       "\t user\\_3177  &   3          &   1          & intermediate & 0.33        \\\\\n",
       "\\end{tabular}\n"
      ],
      "text/markdown": [
       "\n",
       "user_id | submission_count | successful_submissions | expertise_level | success_rate | \n",
       "|---|---|---|---|---|---|\n",
       "| user_3311    |  47          |  40          | intermediate | 0.85         | \n",
       "| user_3028    |  63          |  52          | intermediate | 0.83         | \n",
       "| user_2268    | 226          | 203          | beginner     | 0.90         | \n",
       "| user_480     | 611          | 490          | advanced     | 0.80         | \n",
       "| user_650     | 504          | 479          | advanced     | 0.95         | \n",
       "| user_3177    |   3          |   1          | intermediate | 0.33         | \n",
       "\n",
       "\n"
      ],
      "text/plain": [
       "  user_id   submission_count successful_submissions expertise_level\n",
       "1 user_3311  47               40                    intermediate   \n",
       "2 user_3028  63               52                    intermediate   \n",
       "3 user_2268 226              203                    beginner       \n",
       "4 user_480  611              490                    advanced       \n",
       "5 user_650  504              479                    advanced       \n",
       "6 user_3177   3                1                    intermediate   \n",
       "  success_rate\n",
       "1 0.85        \n",
       "2 0.83        \n",
       "3 0.90        \n",
       "4 0.80        \n",
       "5 0.95        \n",
       "6 0.33        "
      ]
     },
     "metadata": {},
     "output_type": "display_data"
    }
   ],
   "source": [
    "UserData$success_rate = round(UserData$successful_submissions/UserData$submission_count, 2)\n",
    "head(UserData)"
   ]
  },
  {
   "cell_type": "code",
   "execution_count": 16,
   "metadata": {},
   "outputs": [],
   "source": [
    "#Dropping submission_count and successful_submissions\n",
    "UserData$successful_submissions = NULL\n",
    "UserData$submission_count = NULL"
   ]
  },
  {
   "cell_type": "markdown",
   "metadata": {},
   "source": [
    "For determining whether a user is an active learner or a competitive player we will build upon the hypothesis that if a user solves a greater proportion of problems that have some tags i.e. some topics associated with it then he's a learner. Conversely, if a user has a lesser proportion of problems with tags and instead goes for problems with higher points then he's a competitive player. To include this variable/feature in UserData we'll first have to determine how many of the user's submissions have tags with them. We'll have to make use of the other two dataframes for this purpose. Note that \"MISC\" is not a tag and it has been used in place of blanks to make things easier hence we'll consider every problem with a \"MISC\" tag to have no tags associated with it."
   ]
  },
  {
   "cell_type": "code",
   "execution_count": 17,
   "metadata": {},
   "outputs": [
    {
     "data": {
      "text/html": [
       "<table>\n",
       "<thead><tr><th scope=col>user_id</th><th scope=col>problem_id</th><th scope=col>has_tags</th></tr></thead>\n",
       "<tbody>\n",
       "\t<tr><td>user_232 </td><td>prob_6507</td><td>Y        </td></tr>\n",
       "\t<tr><td>user_3568</td><td>prob_2994</td><td>Y        </td></tr>\n",
       "\t<tr><td>user_1600</td><td>prob_5071</td><td>Y        </td></tr>\n",
       "\t<tr><td>user_2256</td><td>prob_703 </td><td>Y        </td></tr>\n",
       "\t<tr><td>user_2321</td><td>prob_356 </td><td>Y        </td></tr>\n",
       "\t<tr><td>user_1569</td><td>prob_6064</td><td>Y        </td></tr>\n",
       "\t<tr><td>user_3293</td><td>prob_1237</td><td>Y        </td></tr>\n",
       "\t<tr><td>user_915 </td><td>prob_4125</td><td>Y        </td></tr>\n",
       "\t<tr><td>user_2032</td><td>prob_1943</td><td>Y        </td></tr>\n",
       "\t<tr><td>user_1410</td><td>prob_3935</td><td>Y        </td></tr>\n",
       "\t<tr><td>user_2085</td><td>prob_5436</td><td>Y        </td></tr>\n",
       "\t<tr><td>user_1810</td><td>prob_3431</td><td>Y        </td></tr>\n",
       "\t<tr><td>user_1287</td><td>prob_3474</td><td>Y        </td></tr>\n",
       "\t<tr><td>user_2063</td><td>prob_2872</td><td>Y        </td></tr>\n",
       "\t<tr><td>user_724 </td><td>prob_6043</td><td>Y        </td></tr>\n",
       "\t<tr><td>user_88  </td><td>prob_1914</td><td>Y        </td></tr>\n",
       "\t<tr><td>user_2269</td><td>prob_5641</td><td>Y        </td></tr>\n",
       "\t<tr><td>user_489 </td><td>prob_522 </td><td>Y        </td></tr>\n",
       "\t<tr><td>user_1997</td><td>prob_32  </td><td>Y        </td></tr>\n",
       "\t<tr><td>user_1929</td><td>prob_5731</td><td>Y        </td></tr>\n",
       "\t<tr><td>user_2084</td><td>prob_4232</td><td>Y        </td></tr>\n",
       "\t<tr><td>user_923 </td><td>prob_3508</td><td>Y        </td></tr>\n",
       "\t<tr><td>user_150 </td><td>prob_6488</td><td>Y        </td></tr>\n",
       "\t<tr><td>user_2898</td><td>prob_1605</td><td>Y        </td></tr>\n",
       "\t<tr><td>user_3086</td><td>prob_2605</td><td>Y        </td></tr>\n",
       "\t<tr><td>user_2552</td><td>prob_534 </td><td>Y        </td></tr>\n",
       "\t<tr><td>user_508 </td><td>prob_3073</td><td>N        </td></tr>\n",
       "\t<tr><td>user_1910</td><td>prob_6442</td><td>N        </td></tr>\n",
       "\t<tr><td>user_1066</td><td>prob_106 </td><td>Y        </td></tr>\n",
       "\t<tr><td>user_1637</td><td>prob_1482</td><td>Y        </td></tr>\n",
       "\t<tr><td>⋮</td><td>⋮</td><td>⋮</td></tr>\n",
       "\t<tr><td>user_1813</td><td>prob_1677</td><td>Y        </td></tr>\n",
       "\t<tr><td>user_948 </td><td>prob_4835</td><td>Y        </td></tr>\n",
       "\t<tr><td>user_1093</td><td>prob_4087</td><td>Y        </td></tr>\n",
       "\t<tr><td>user_144 </td><td>prob_4702</td><td>Y        </td></tr>\n",
       "\t<tr><td>user_2407</td><td>prob_1396</td><td>Y        </td></tr>\n",
       "\t<tr><td>user_2321</td><td>prob_4152</td><td>Y        </td></tr>\n",
       "\t<tr><td>user_2507</td><td>prob_1737</td><td>Y        </td></tr>\n",
       "\t<tr><td>user_727 </td><td>prob_137 </td><td>Y        </td></tr>\n",
       "\t<tr><td>user_2635</td><td>prob_5045</td><td>Y        </td></tr>\n",
       "\t<tr><td>user_3114</td><td>prob_3445</td><td>Y        </td></tr>\n",
       "\t<tr><td>user_2928</td><td>prob_5333</td><td>Y        </td></tr>\n",
       "\t<tr><td>user_1433</td><td>prob_2936</td><td>Y        </td></tr>\n",
       "\t<tr><td>user_595 </td><td>prob_95  </td><td>Y        </td></tr>\n",
       "\t<tr><td>user_3151</td><td>prob_5374</td><td>Y        </td></tr>\n",
       "\t<tr><td>user_1346</td><td>prob_5995</td><td>Y        </td></tr>\n",
       "\t<tr><td>user_1588</td><td>prob_5781</td><td>Y        </td></tr>\n",
       "\t<tr><td>user_1529</td><td>prob_1679</td><td>Y        </td></tr>\n",
       "\t<tr><td>user_2815</td><td>prob_5880</td><td>Y        </td></tr>\n",
       "\t<tr><td>user_3461</td><td>prob_5150</td><td>Y        </td></tr>\n",
       "\t<tr><td>user_3013</td><td>prob_2284</td><td>Y        </td></tr>\n",
       "\t<tr><td>user_1563</td><td>prob_740 </td><td>Y        </td></tr>\n",
       "\t<tr><td>user_2838</td><td>prob_1181</td><td>Y        </td></tr>\n",
       "\t<tr><td>user_1533</td><td>prob_5837</td><td>Y        </td></tr>\n",
       "\t<tr><td>user_3205</td><td>prob_3474</td><td>Y        </td></tr>\n",
       "\t<tr><td>user_3271</td><td>prob_5932</td><td>Y        </td></tr>\n",
       "\t<tr><td>user_2959</td><td>prob_2052</td><td>Y        </td></tr>\n",
       "\t<tr><td>user_2530</td><td>prob_6167</td><td>Y        </td></tr>\n",
       "\t<tr><td>user_445 </td><td>prob_3110</td><td>Y        </td></tr>\n",
       "\t<tr><td>user_2337</td><td>prob_2685</td><td>Y        </td></tr>\n",
       "\t<tr><td>user_1645</td><td>prob_4511</td><td>N        </td></tr>\n",
       "</tbody>\n",
       "</table>\n"
      ],
      "text/latex": [
       "\\begin{tabular}{r|lll}\n",
       " user\\_id & problem\\_id & has\\_tags\\\\\n",
       "\\hline\n",
       "\t user\\_232  & prob\\_6507 & Y          \\\\\n",
       "\t user\\_3568 & prob\\_2994 & Y          \\\\\n",
       "\t user\\_1600 & prob\\_5071 & Y          \\\\\n",
       "\t user\\_2256 & prob\\_703  & Y          \\\\\n",
       "\t user\\_2321 & prob\\_356  & Y          \\\\\n",
       "\t user\\_1569 & prob\\_6064 & Y          \\\\\n",
       "\t user\\_3293 & prob\\_1237 & Y          \\\\\n",
       "\t user\\_915  & prob\\_4125 & Y          \\\\\n",
       "\t user\\_2032 & prob\\_1943 & Y          \\\\\n",
       "\t user\\_1410 & prob\\_3935 & Y          \\\\\n",
       "\t user\\_2085 & prob\\_5436 & Y          \\\\\n",
       "\t user\\_1810 & prob\\_3431 & Y          \\\\\n",
       "\t user\\_1287 & prob\\_3474 & Y          \\\\\n",
       "\t user\\_2063 & prob\\_2872 & Y          \\\\\n",
       "\t user\\_724  & prob\\_6043 & Y          \\\\\n",
       "\t user\\_88   & prob\\_1914 & Y          \\\\\n",
       "\t user\\_2269 & prob\\_5641 & Y          \\\\\n",
       "\t user\\_489  & prob\\_522  & Y          \\\\\n",
       "\t user\\_1997 & prob\\_32   & Y          \\\\\n",
       "\t user\\_1929 & prob\\_5731 & Y          \\\\\n",
       "\t user\\_2084 & prob\\_4232 & Y          \\\\\n",
       "\t user\\_923  & prob\\_3508 & Y          \\\\\n",
       "\t user\\_150  & prob\\_6488 & Y          \\\\\n",
       "\t user\\_2898 & prob\\_1605 & Y          \\\\\n",
       "\t user\\_3086 & prob\\_2605 & Y          \\\\\n",
       "\t user\\_2552 & prob\\_534  & Y          \\\\\n",
       "\t user\\_508  & prob\\_3073 & N          \\\\\n",
       "\t user\\_1910 & prob\\_6442 & N          \\\\\n",
       "\t user\\_1066 & prob\\_106  & Y          \\\\\n",
       "\t user\\_1637 & prob\\_1482 & Y          \\\\\n",
       "\t ⋮ & ⋮ & ⋮\\\\\n",
       "\t user\\_1813 & prob\\_1677 & Y          \\\\\n",
       "\t user\\_948  & prob\\_4835 & Y          \\\\\n",
       "\t user\\_1093 & prob\\_4087 & Y          \\\\\n",
       "\t user\\_144  & prob\\_4702 & Y          \\\\\n",
       "\t user\\_2407 & prob\\_1396 & Y          \\\\\n",
       "\t user\\_2321 & prob\\_4152 & Y          \\\\\n",
       "\t user\\_2507 & prob\\_1737 & Y          \\\\\n",
       "\t user\\_727  & prob\\_137  & Y          \\\\\n",
       "\t user\\_2635 & prob\\_5045 & Y          \\\\\n",
       "\t user\\_3114 & prob\\_3445 & Y          \\\\\n",
       "\t user\\_2928 & prob\\_5333 & Y          \\\\\n",
       "\t user\\_1433 & prob\\_2936 & Y          \\\\\n",
       "\t user\\_595  & prob\\_95   & Y          \\\\\n",
       "\t user\\_3151 & prob\\_5374 & Y          \\\\\n",
       "\t user\\_1346 & prob\\_5995 & Y          \\\\\n",
       "\t user\\_1588 & prob\\_5781 & Y          \\\\\n",
       "\t user\\_1529 & prob\\_1679 & Y          \\\\\n",
       "\t user\\_2815 & prob\\_5880 & Y          \\\\\n",
       "\t user\\_3461 & prob\\_5150 & Y          \\\\\n",
       "\t user\\_3013 & prob\\_2284 & Y          \\\\\n",
       "\t user\\_1563 & prob\\_740  & Y          \\\\\n",
       "\t user\\_2838 & prob\\_1181 & Y          \\\\\n",
       "\t user\\_1533 & prob\\_5837 & Y          \\\\\n",
       "\t user\\_3205 & prob\\_3474 & Y          \\\\\n",
       "\t user\\_3271 & prob\\_5932 & Y          \\\\\n",
       "\t user\\_2959 & prob\\_2052 & Y          \\\\\n",
       "\t user\\_2530 & prob\\_6167 & Y          \\\\\n",
       "\t user\\_445  & prob\\_3110 & Y          \\\\\n",
       "\t user\\_2337 & prob\\_2685 & Y          \\\\\n",
       "\t user\\_1645 & prob\\_4511 & N          \\\\\n",
       "\\end{tabular}\n"
      ],
      "text/markdown": [
       "\n",
       "user_id | problem_id | has_tags | \n",
       "|---|---|---|---|---|---|---|---|---|---|---|---|---|---|---|---|---|---|---|---|---|---|---|---|---|---|---|---|---|---|---|---|---|---|---|---|---|---|---|---|---|---|---|---|---|---|---|---|---|---|---|---|---|---|---|---|---|---|---|---|---|\n",
       "| user_232  | prob_6507 | Y         | \n",
       "| user_3568 | prob_2994 | Y         | \n",
       "| user_1600 | prob_5071 | Y         | \n",
       "| user_2256 | prob_703  | Y         | \n",
       "| user_2321 | prob_356  | Y         | \n",
       "| user_1569 | prob_6064 | Y         | \n",
       "| user_3293 | prob_1237 | Y         | \n",
       "| user_915  | prob_4125 | Y         | \n",
       "| user_2032 | prob_1943 | Y         | \n",
       "| user_1410 | prob_3935 | Y         | \n",
       "| user_2085 | prob_5436 | Y         | \n",
       "| user_1810 | prob_3431 | Y         | \n",
       "| user_1287 | prob_3474 | Y         | \n",
       "| user_2063 | prob_2872 | Y         | \n",
       "| user_724  | prob_6043 | Y         | \n",
       "| user_88   | prob_1914 | Y         | \n",
       "| user_2269 | prob_5641 | Y         | \n",
       "| user_489  | prob_522  | Y         | \n",
       "| user_1997 | prob_32   | Y         | \n",
       "| user_1929 | prob_5731 | Y         | \n",
       "| user_2084 | prob_4232 | Y         | \n",
       "| user_923  | prob_3508 | Y         | \n",
       "| user_150  | prob_6488 | Y         | \n",
       "| user_2898 | prob_1605 | Y         | \n",
       "| user_3086 | prob_2605 | Y         | \n",
       "| user_2552 | prob_534  | Y         | \n",
       "| user_508  | prob_3073 | N         | \n",
       "| user_1910 | prob_6442 | N         | \n",
       "| user_1066 | prob_106  | Y         | \n",
       "| user_1637 | prob_1482 | Y         | \n",
       "| ⋮ | ⋮ | ⋮ | \n",
       "| user_1813 | prob_1677 | Y         | \n",
       "| user_948  | prob_4835 | Y         | \n",
       "| user_1093 | prob_4087 | Y         | \n",
       "| user_144  | prob_4702 | Y         | \n",
       "| user_2407 | prob_1396 | Y         | \n",
       "| user_2321 | prob_4152 | Y         | \n",
       "| user_2507 | prob_1737 | Y         | \n",
       "| user_727  | prob_137  | Y         | \n",
       "| user_2635 | prob_5045 | Y         | \n",
       "| user_3114 | prob_3445 | Y         | \n",
       "| user_2928 | prob_5333 | Y         | \n",
       "| user_1433 | prob_2936 | Y         | \n",
       "| user_595  | prob_95   | Y         | \n",
       "| user_3151 | prob_5374 | Y         | \n",
       "| user_1346 | prob_5995 | Y         | \n",
       "| user_1588 | prob_5781 | Y         | \n",
       "| user_1529 | prob_1679 | Y         | \n",
       "| user_2815 | prob_5880 | Y         | \n",
       "| user_3461 | prob_5150 | Y         | \n",
       "| user_3013 | prob_2284 | Y         | \n",
       "| user_1563 | prob_740  | Y         | \n",
       "| user_2838 | prob_1181 | Y         | \n",
       "| user_1533 | prob_5837 | Y         | \n",
       "| user_3205 | prob_3474 | Y         | \n",
       "| user_3271 | prob_5932 | Y         | \n",
       "| user_2959 | prob_2052 | Y         | \n",
       "| user_2530 | prob_6167 | Y         | \n",
       "| user_445  | prob_3110 | Y         | \n",
       "| user_2337 | prob_2685 | Y         | \n",
       "| user_1645 | prob_4511 | N         | \n",
       "\n",
       "\n"
      ],
      "text/plain": [
       "       user_id   problem_id has_tags\n",
       "1      user_232  prob_6507  Y       \n",
       "2      user_3568 prob_2994  Y       \n",
       "3      user_1600 prob_5071  Y       \n",
       "4      user_2256 prob_703   Y       \n",
       "5      user_2321 prob_356   Y       \n",
       "6      user_1569 prob_6064  Y       \n",
       "7      user_3293 prob_1237  Y       \n",
       "8      user_915  prob_4125  Y       \n",
       "9      user_2032 prob_1943  Y       \n",
       "10     user_1410 prob_3935  Y       \n",
       "11     user_2085 prob_5436  Y       \n",
       "12     user_1810 prob_3431  Y       \n",
       "13     user_1287 prob_3474  Y       \n",
       "14     user_2063 prob_2872  Y       \n",
       "15     user_724  prob_6043  Y       \n",
       "16     user_88   prob_1914  Y       \n",
       "17     user_2269 prob_5641  Y       \n",
       "18     user_489  prob_522   Y       \n",
       "19     user_1997 prob_32    Y       \n",
       "20     user_1929 prob_5731  Y       \n",
       "21     user_2084 prob_4232  Y       \n",
       "22     user_923  prob_3508  Y       \n",
       "23     user_150  prob_6488  Y       \n",
       "24     user_2898 prob_1605  Y       \n",
       "25     user_3086 prob_2605  Y       \n",
       "26     user_2552 prob_534   Y       \n",
       "27     user_508  prob_3073  N       \n",
       "28     user_1910 prob_6442  N       \n",
       "29     user_1066 prob_106   Y       \n",
       "30     user_1637 prob_1482  Y       \n",
       "⋮      ⋮         ⋮          ⋮       \n",
       "155266 user_1813 prob_1677  Y       \n",
       "155267 user_948  prob_4835  Y       \n",
       "155268 user_1093 prob_4087  Y       \n",
       "155269 user_144  prob_4702  Y       \n",
       "155270 user_2407 prob_1396  Y       \n",
       "155271 user_2321 prob_4152  Y       \n",
       "155272 user_2507 prob_1737  Y       \n",
       "155273 user_727  prob_137   Y       \n",
       "155274 user_2635 prob_5045  Y       \n",
       "155275 user_3114 prob_3445  Y       \n",
       "155276 user_2928 prob_5333  Y       \n",
       "155277 user_1433 prob_2936  Y       \n",
       "155278 user_595  prob_95    Y       \n",
       "155279 user_3151 prob_5374  Y       \n",
       "155280 user_1346 prob_5995  Y       \n",
       "155281 user_1588 prob_5781  Y       \n",
       "155282 user_1529 prob_1679  Y       \n",
       "155283 user_2815 prob_5880  Y       \n",
       "155284 user_3461 prob_5150  Y       \n",
       "155285 user_3013 prob_2284  Y       \n",
       "155286 user_1563 prob_740   Y       \n",
       "155287 user_2838 prob_1181  Y       \n",
       "155288 user_1533 prob_5837  Y       \n",
       "155289 user_3205 prob_3474  Y       \n",
       "155290 user_3271 prob_5932  Y       \n",
       "155291 user_2959 prob_2052  Y       \n",
       "155292 user_2530 prob_6167  Y       \n",
       "155293 user_445  prob_3110  Y       \n",
       "155294 user_2337 prob_2685  Y       \n",
       "155295 user_1645 prob_4511  N       "
      ]
     },
     "metadata": {},
     "output_type": "display_data"
    }
   ],
   "source": [
    "#Perform join with ProblemData on problem_id for SubmissionsData\n",
    "#Create a new column has_tags with Y if tags are present and N if not\n",
    "#Drop tags column and rearrange the columns\n",
    "SubmissionsData = ProblemData %>%\n",
    "                    select(problem_id, tags) %>%\n",
    "                    right_join(SubmissionsData, by = c(\"problem_id\" = \"problem_id\")) %>%\n",
    "                    mutate(has_tags = ifelse(tags == \"MISC\", \"N\", \"Y\")) %>%\n",
    "                    select(-tags) %>%\n",
    "                    select(user_id, problem_id, has_tags)\n",
    "\n",
    "SubmissionsData"
   ]
  },
  {
   "cell_type": "code",
   "execution_count": 18,
   "metadata": {},
   "outputs": [
    {
     "data": {
      "text/html": [
       "<table>\n",
       "<thead><tr><th scope=col>user_id</th><th scope=col>tags_present</th><th scope=col>total_count</th><th scope=col>learning_ratio</th></tr></thead>\n",
       "<tbody>\n",
       "\t<tr><td>user_232 </td><td>30       </td><td>31       </td><td>0.97     </td></tr>\n",
       "\t<tr><td>user_3568</td><td>44       </td><td>44       </td><td>1.00     </td></tr>\n",
       "\t<tr><td>user_1600</td><td>27       </td><td>27       </td><td>1.00     </td></tr>\n",
       "\t<tr><td>user_2256</td><td>54       </td><td>56       </td><td>0.96     </td></tr>\n",
       "\t<tr><td>user_2321</td><td>65       </td><td>68       </td><td>0.96     </td></tr>\n",
       "\t<tr><td>user_1569</td><td>59       </td><td>79       </td><td>0.75     </td></tr>\n",
       "\t<tr><td>user_3293</td><td>48       </td><td>61       </td><td>0.79     </td></tr>\n",
       "\t<tr><td>user_915 </td><td>44       </td><td>57       </td><td>0.77     </td></tr>\n",
       "\t<tr><td>user_2032</td><td>72       </td><td>73       </td><td>0.99     </td></tr>\n",
       "\t<tr><td>user_1410</td><td>52       </td><td>52       </td><td>1.00     </td></tr>\n",
       "\t<tr><td>user_2085</td><td>46       </td><td>49       </td><td>0.94     </td></tr>\n",
       "\t<tr><td>user_1810</td><td>58       </td><td>61       </td><td>0.95     </td></tr>\n",
       "\t<tr><td>user_1287</td><td>72       </td><td>77       </td><td>0.94     </td></tr>\n",
       "\t<tr><td>user_2063</td><td>64       </td><td>72       </td><td>0.89     </td></tr>\n",
       "\t<tr><td>user_724 </td><td>68       </td><td>70       </td><td>0.97     </td></tr>\n",
       "\t<tr><td>user_88  </td><td>13       </td><td>34       </td><td>0.38     </td></tr>\n",
       "\t<tr><td>user_2269</td><td>15       </td><td>45       </td><td>0.33     </td></tr>\n",
       "\t<tr><td>user_489 </td><td>44       </td><td>48       </td><td>0.92     </td></tr>\n",
       "\t<tr><td>user_1997</td><td>31       </td><td>31       </td><td>1.00     </td></tr>\n",
       "\t<tr><td>user_1929</td><td>40       </td><td>41       </td><td>0.98     </td></tr>\n",
       "\t<tr><td>user_2084</td><td>62       </td><td>73       </td><td>0.85     </td></tr>\n",
       "\t<tr><td>user_923 </td><td>44       </td><td>61       </td><td>0.72     </td></tr>\n",
       "\t<tr><td>user_150 </td><td>37       </td><td>38       </td><td>0.97     </td></tr>\n",
       "\t<tr><td>user_2898</td><td>69       </td><td>71       </td><td>0.97     </td></tr>\n",
       "\t<tr><td>user_3086</td><td>45       </td><td>46       </td><td>0.98     </td></tr>\n",
       "\t<tr><td>user_2552</td><td>34       </td><td>49       </td><td>0.69     </td></tr>\n",
       "\t<tr><td>user_508 </td><td>25       </td><td>30       </td><td>0.83     </td></tr>\n",
       "\t<tr><td>user_1910</td><td>52       </td><td>61       </td><td>0.85     </td></tr>\n",
       "\t<tr><td>user_1066</td><td>48       </td><td>51       </td><td>0.94     </td></tr>\n",
       "\t<tr><td>user_1637</td><td> 6       </td><td> 6       </td><td>1.00     </td></tr>\n",
       "\t<tr><td>⋮</td><td>⋮</td><td>⋮</td><td>⋮</td></tr>\n",
       "\t<tr><td>user_755 </td><td>3        </td><td>3        </td><td>1.0      </td></tr>\n",
       "\t<tr><td>user_2366</td><td>1        </td><td>1        </td><td>1.0      </td></tr>\n",
       "\t<tr><td>user_3422</td><td>1        </td><td>1        </td><td>1.0      </td></tr>\n",
       "\t<tr><td>user_2521</td><td>1        </td><td>2        </td><td>0.5      </td></tr>\n",
       "\t<tr><td>user_2980</td><td>0        </td><td>3        </td><td>0.0      </td></tr>\n",
       "\t<tr><td>user_99  </td><td>2        </td><td>2        </td><td>1.0      </td></tr>\n",
       "\t<tr><td>user_3419</td><td>4        </td><td>4        </td><td>1.0      </td></tr>\n",
       "\t<tr><td>user_1298</td><td>2        </td><td>2        </td><td>1.0      </td></tr>\n",
       "\t<tr><td>user_2424</td><td>3        </td><td>3        </td><td>1.0      </td></tr>\n",
       "\t<tr><td>user_1601</td><td>2        </td><td>2        </td><td>1.0      </td></tr>\n",
       "\t<tr><td>user_1525</td><td>2        </td><td>2        </td><td>1.0      </td></tr>\n",
       "\t<tr><td>user_2796</td><td>2        </td><td>2        </td><td>1.0      </td></tr>\n",
       "\t<tr><td>user_3062</td><td>2        </td><td>2        </td><td>1.0      </td></tr>\n",
       "\t<tr><td>user_2426</td><td>2        </td><td>2        </td><td>1.0      </td></tr>\n",
       "\t<tr><td>user_2804</td><td>2        </td><td>2        </td><td>1.0      </td></tr>\n",
       "\t<tr><td>user_434 </td><td>2        </td><td>2        </td><td>1.0      </td></tr>\n",
       "\t<tr><td>user_1021</td><td>1        </td><td>1        </td><td>1.0      </td></tr>\n",
       "\t<tr><td>user_1759</td><td>2        </td><td>2        </td><td>1.0      </td></tr>\n",
       "\t<tr><td>user_2902</td><td>2        </td><td>2        </td><td>1.0      </td></tr>\n",
       "\t<tr><td>user_1384</td><td>1        </td><td>1        </td><td>1.0      </td></tr>\n",
       "\t<tr><td>user_451 </td><td>1        </td><td>1        </td><td>1.0      </td></tr>\n",
       "\t<tr><td>user_891 </td><td>1        </td><td>1        </td><td>1.0      </td></tr>\n",
       "\t<tr><td>user_2058</td><td>1        </td><td>1        </td><td>1.0      </td></tr>\n",
       "\t<tr><td>user_1663</td><td>1        </td><td>1        </td><td>1.0      </td></tr>\n",
       "\t<tr><td>user_2947</td><td>3        </td><td>3        </td><td>1.0      </td></tr>\n",
       "\t<tr><td>user_457 </td><td>2        </td><td>2        </td><td>1.0      </td></tr>\n",
       "\t<tr><td>user_2017</td><td>1        </td><td>1        </td><td>1.0      </td></tr>\n",
       "\t<tr><td>user_3212</td><td>1        </td><td>1        </td><td>1.0      </td></tr>\n",
       "\t<tr><td>user_208 </td><td>1        </td><td>1        </td><td>1.0      </td></tr>\n",
       "\t<tr><td>user_3306</td><td>1        </td><td>1        </td><td>1.0      </td></tr>\n",
       "</tbody>\n",
       "</table>\n"
      ],
      "text/latex": [
       "\\begin{tabular}{r|llll}\n",
       " user\\_id & tags\\_present & total\\_count & learning\\_ratio\\\\\n",
       "\\hline\n",
       "\t user\\_232  & 30          & 31          & 0.97       \\\\\n",
       "\t user\\_3568 & 44          & 44          & 1.00       \\\\\n",
       "\t user\\_1600 & 27          & 27          & 1.00       \\\\\n",
       "\t user\\_2256 & 54          & 56          & 0.96       \\\\\n",
       "\t user\\_2321 & 65          & 68          & 0.96       \\\\\n",
       "\t user\\_1569 & 59          & 79          & 0.75       \\\\\n",
       "\t user\\_3293 & 48          & 61          & 0.79       \\\\\n",
       "\t user\\_915  & 44          & 57          & 0.77       \\\\\n",
       "\t user\\_2032 & 72          & 73          & 0.99       \\\\\n",
       "\t user\\_1410 & 52          & 52          & 1.00       \\\\\n",
       "\t user\\_2085 & 46          & 49          & 0.94       \\\\\n",
       "\t user\\_1810 & 58          & 61          & 0.95       \\\\\n",
       "\t user\\_1287 & 72          & 77          & 0.94       \\\\\n",
       "\t user\\_2063 & 64          & 72          & 0.89       \\\\\n",
       "\t user\\_724  & 68          & 70          & 0.97       \\\\\n",
       "\t user\\_88   & 13          & 34          & 0.38       \\\\\n",
       "\t user\\_2269 & 15          & 45          & 0.33       \\\\\n",
       "\t user\\_489  & 44          & 48          & 0.92       \\\\\n",
       "\t user\\_1997 & 31          & 31          & 1.00       \\\\\n",
       "\t user\\_1929 & 40          & 41          & 0.98       \\\\\n",
       "\t user\\_2084 & 62          & 73          & 0.85       \\\\\n",
       "\t user\\_923  & 44          & 61          & 0.72       \\\\\n",
       "\t user\\_150  & 37          & 38          & 0.97       \\\\\n",
       "\t user\\_2898 & 69          & 71          & 0.97       \\\\\n",
       "\t user\\_3086 & 45          & 46          & 0.98       \\\\\n",
       "\t user\\_2552 & 34          & 49          & 0.69       \\\\\n",
       "\t user\\_508  & 25          & 30          & 0.83       \\\\\n",
       "\t user\\_1910 & 52          & 61          & 0.85       \\\\\n",
       "\t user\\_1066 & 48          & 51          & 0.94       \\\\\n",
       "\t user\\_1637 &  6          &  6          & 1.00       \\\\\n",
       "\t ⋮ & ⋮ & ⋮ & ⋮\\\\\n",
       "\t user\\_755  & 3           & 3           & 1.0        \\\\\n",
       "\t user\\_2366 & 1           & 1           & 1.0        \\\\\n",
       "\t user\\_3422 & 1           & 1           & 1.0        \\\\\n",
       "\t user\\_2521 & 1           & 2           & 0.5        \\\\\n",
       "\t user\\_2980 & 0           & 3           & 0.0        \\\\\n",
       "\t user\\_99   & 2           & 2           & 1.0        \\\\\n",
       "\t user\\_3419 & 4           & 4           & 1.0        \\\\\n",
       "\t user\\_1298 & 2           & 2           & 1.0        \\\\\n",
       "\t user\\_2424 & 3           & 3           & 1.0        \\\\\n",
       "\t user\\_1601 & 2           & 2           & 1.0        \\\\\n",
       "\t user\\_1525 & 2           & 2           & 1.0        \\\\\n",
       "\t user\\_2796 & 2           & 2           & 1.0        \\\\\n",
       "\t user\\_3062 & 2           & 2           & 1.0        \\\\\n",
       "\t user\\_2426 & 2           & 2           & 1.0        \\\\\n",
       "\t user\\_2804 & 2           & 2           & 1.0        \\\\\n",
       "\t user\\_434  & 2           & 2           & 1.0        \\\\\n",
       "\t user\\_1021 & 1           & 1           & 1.0        \\\\\n",
       "\t user\\_1759 & 2           & 2           & 1.0        \\\\\n",
       "\t user\\_2902 & 2           & 2           & 1.0        \\\\\n",
       "\t user\\_1384 & 1           & 1           & 1.0        \\\\\n",
       "\t user\\_451  & 1           & 1           & 1.0        \\\\\n",
       "\t user\\_891  & 1           & 1           & 1.0        \\\\\n",
       "\t user\\_2058 & 1           & 1           & 1.0        \\\\\n",
       "\t user\\_1663 & 1           & 1           & 1.0        \\\\\n",
       "\t user\\_2947 & 3           & 3           & 1.0        \\\\\n",
       "\t user\\_457  & 2           & 2           & 1.0        \\\\\n",
       "\t user\\_2017 & 1           & 1           & 1.0        \\\\\n",
       "\t user\\_3212 & 1           & 1           & 1.0        \\\\\n",
       "\t user\\_208  & 1           & 1           & 1.0        \\\\\n",
       "\t user\\_3306 & 1           & 1           & 1.0        \\\\\n",
       "\\end{tabular}\n"
      ],
      "text/markdown": [
       "\n",
       "user_id | tags_present | total_count | learning_ratio | \n",
       "|---|---|---|---|---|---|---|---|---|---|---|---|---|---|---|---|---|---|---|---|---|---|---|---|---|---|---|---|---|---|---|---|---|---|---|---|---|---|---|---|---|---|---|---|---|---|---|---|---|---|---|---|---|---|---|---|---|---|---|---|---|\n",
       "| user_232  | 30        | 31        | 0.97      | \n",
       "| user_3568 | 44        | 44        | 1.00      | \n",
       "| user_1600 | 27        | 27        | 1.00      | \n",
       "| user_2256 | 54        | 56        | 0.96      | \n",
       "| user_2321 | 65        | 68        | 0.96      | \n",
       "| user_1569 | 59        | 79        | 0.75      | \n",
       "| user_3293 | 48        | 61        | 0.79      | \n",
       "| user_915  | 44        | 57        | 0.77      | \n",
       "| user_2032 | 72        | 73        | 0.99      | \n",
       "| user_1410 | 52        | 52        | 1.00      | \n",
       "| user_2085 | 46        | 49        | 0.94      | \n",
       "| user_1810 | 58        | 61        | 0.95      | \n",
       "| user_1287 | 72        | 77        | 0.94      | \n",
       "| user_2063 | 64        | 72        | 0.89      | \n",
       "| user_724  | 68        | 70        | 0.97      | \n",
       "| user_88   | 13        | 34        | 0.38      | \n",
       "| user_2269 | 15        | 45        | 0.33      | \n",
       "| user_489  | 44        | 48        | 0.92      | \n",
       "| user_1997 | 31        | 31        | 1.00      | \n",
       "| user_1929 | 40        | 41        | 0.98      | \n",
       "| user_2084 | 62        | 73        | 0.85      | \n",
       "| user_923  | 44        | 61        | 0.72      | \n",
       "| user_150  | 37        | 38        | 0.97      | \n",
       "| user_2898 | 69        | 71        | 0.97      | \n",
       "| user_3086 | 45        | 46        | 0.98      | \n",
       "| user_2552 | 34        | 49        | 0.69      | \n",
       "| user_508  | 25        | 30        | 0.83      | \n",
       "| user_1910 | 52        | 61        | 0.85      | \n",
       "| user_1066 | 48        | 51        | 0.94      | \n",
       "| user_1637 |  6        |  6        | 1.00      | \n",
       "| ⋮ | ⋮ | ⋮ | ⋮ | \n",
       "| user_755  | 3         | 3         | 1.0       | \n",
       "| user_2366 | 1         | 1         | 1.0       | \n",
       "| user_3422 | 1         | 1         | 1.0       | \n",
       "| user_2521 | 1         | 2         | 0.5       | \n",
       "| user_2980 | 0         | 3         | 0.0       | \n",
       "| user_99   | 2         | 2         | 1.0       | \n",
       "| user_3419 | 4         | 4         | 1.0       | \n",
       "| user_1298 | 2         | 2         | 1.0       | \n",
       "| user_2424 | 3         | 3         | 1.0       | \n",
       "| user_1601 | 2         | 2         | 1.0       | \n",
       "| user_1525 | 2         | 2         | 1.0       | \n",
       "| user_2796 | 2         | 2         | 1.0       | \n",
       "| user_3062 | 2         | 2         | 1.0       | \n",
       "| user_2426 | 2         | 2         | 1.0       | \n",
       "| user_2804 | 2         | 2         | 1.0       | \n",
       "| user_434  | 2         | 2         | 1.0       | \n",
       "| user_1021 | 1         | 1         | 1.0       | \n",
       "| user_1759 | 2         | 2         | 1.0       | \n",
       "| user_2902 | 2         | 2         | 1.0       | \n",
       "| user_1384 | 1         | 1         | 1.0       | \n",
       "| user_451  | 1         | 1         | 1.0       | \n",
       "| user_891  | 1         | 1         | 1.0       | \n",
       "| user_2058 | 1         | 1         | 1.0       | \n",
       "| user_1663 | 1         | 1         | 1.0       | \n",
       "| user_2947 | 3         | 3         | 1.0       | \n",
       "| user_457  | 2         | 2         | 1.0       | \n",
       "| user_2017 | 1         | 1         | 1.0       | \n",
       "| user_3212 | 1         | 1         | 1.0       | \n",
       "| user_208  | 1         | 1         | 1.0       | \n",
       "| user_3306 | 1         | 1         | 1.0       | \n",
       "\n",
       "\n"
      ],
      "text/plain": [
       "     user_id   tags_present total_count learning_ratio\n",
       "1    user_232  30           31          0.97          \n",
       "2    user_3568 44           44          1.00          \n",
       "3    user_1600 27           27          1.00          \n",
       "4    user_2256 54           56          0.96          \n",
       "5    user_2321 65           68          0.96          \n",
       "6    user_1569 59           79          0.75          \n",
       "7    user_3293 48           61          0.79          \n",
       "8    user_915  44           57          0.77          \n",
       "9    user_2032 72           73          0.99          \n",
       "10   user_1410 52           52          1.00          \n",
       "11   user_2085 46           49          0.94          \n",
       "12   user_1810 58           61          0.95          \n",
       "13   user_1287 72           77          0.94          \n",
       "14   user_2063 64           72          0.89          \n",
       "15   user_724  68           70          0.97          \n",
       "16   user_88   13           34          0.38          \n",
       "17   user_2269 15           45          0.33          \n",
       "18   user_489  44           48          0.92          \n",
       "19   user_1997 31           31          1.00          \n",
       "20   user_1929 40           41          0.98          \n",
       "21   user_2084 62           73          0.85          \n",
       "22   user_923  44           61          0.72          \n",
       "23   user_150  37           38          0.97          \n",
       "24   user_2898 69           71          0.97          \n",
       "25   user_3086 45           46          0.98          \n",
       "26   user_2552 34           49          0.69          \n",
       "27   user_508  25           30          0.83          \n",
       "28   user_1910 52           61          0.85          \n",
       "29   user_1066 48           51          0.94          \n",
       "30   user_1637  6            6          1.00          \n",
       "⋮    ⋮         ⋮            ⋮           ⋮             \n",
       "3500 user_755  3            3           1.0           \n",
       "3501 user_2366 1            1           1.0           \n",
       "3502 user_3422 1            1           1.0           \n",
       "3503 user_2521 1            2           0.5           \n",
       "3504 user_2980 0            3           0.0           \n",
       "3505 user_99   2            2           1.0           \n",
       "3506 user_3419 4            4           1.0           \n",
       "3507 user_1298 2            2           1.0           \n",
       "3508 user_2424 3            3           1.0           \n",
       "3509 user_1601 2            2           1.0           \n",
       "3510 user_1525 2            2           1.0           \n",
       "3511 user_2796 2            2           1.0           \n",
       "3512 user_3062 2            2           1.0           \n",
       "3513 user_2426 2            2           1.0           \n",
       "3514 user_2804 2            2           1.0           \n",
       "3515 user_434  2            2           1.0           \n",
       "3516 user_1021 1            1           1.0           \n",
       "3517 user_1759 2            2           1.0           \n",
       "3518 user_2902 2            2           1.0           \n",
       "3519 user_1384 1            1           1.0           \n",
       "3520 user_451  1            1           1.0           \n",
       "3521 user_891  1            1           1.0           \n",
       "3522 user_2058 1            1           1.0           \n",
       "3523 user_1663 1            1           1.0           \n",
       "3524 user_2947 3            3           1.0           \n",
       "3525 user_457  2            2           1.0           \n",
       "3526 user_2017 1            1           1.0           \n",
       "3527 user_3212 1            1           1.0           \n",
       "3528 user_208  1            1           1.0           \n",
       "3529 user_3306 1            1           1.0           "
      ]
     },
     "metadata": {},
     "output_type": "display_data"
    }
   ],
   "source": [
    "#Get the number of problems with tags by user_id\n",
    "UserLearningStats = SubmissionsData %>% group_by(user_id) %>% \n",
    "                    mutate(tags_present = sum(has_tags == \"Y\")) %>% \n",
    "                    select(user_id, tags_present)\n",
    "\n",
    "#Get the total number of problems by user_id and get the learning ratio\n",
    "UserLearningStats = SubmissionsData %>%\n",
    "                    group_by(user_id) %>%\n",
    "                    summarize(total_count = n()) %>%\n",
    "                    right_join(UserLearningStats, by = c(\"user_id\" = \"user_id\")) %>%\n",
    "                    mutate(learning_ratio = round(tags_present/total_count, 2)) %>%\n",
    "                    select(user_id, tags_present, total_count, learning_ratio) %>%\n",
    "                    distinct()\n",
    "\n",
    "UserLearningStats"
   ]
  },
  {
   "cell_type": "code",
   "execution_count": 19,
   "metadata": {},
   "outputs": [
    {
     "data": {
      "text/plain": [
       "   Min. 1st Qu.  Median    Mean 3rd Qu.    Max. \n",
       "   0.00    0.90    0.98    0.91    1.00    1.00 "
      ]
     },
     "metadata": {},
     "output_type": "display_data"
    }
   ],
   "source": [
    "#Distribution of learning_ratio values\n",
    "summary(UserLearningStats$learning_ratio)"
   ]
  },
  {
   "cell_type": "markdown",
   "metadata": {},
   "source": [
    "From this distribution it becomes evident that a larger proportion of our users are active learners. The reason that I decided to look at this distribution is because if I had arbitrarily decided a threshold value, say 0.50, for learning_ratio to categorize a user as a learner or a player, I would have definitely miscategorized a lot of users. Since the first quartile is 0.90 let's see how many users fall under the categories of learners and players when we keep the threshold at 0.90."
   ]
  },
  {
   "cell_type": "code",
   "execution_count": 20,
   "metadata": {},
   "outputs": [
    {
     "data": {
      "text/html": [
       "3529"
      ],
      "text/latex": [
       "3529"
      ],
      "text/markdown": [
       "3529"
      ],
      "text/plain": [
       "[1] 3529"
      ]
     },
     "metadata": {},
     "output_type": "display_data"
    },
    {
     "data": {
      "text/html": [
       "890"
      ],
      "text/latex": [
       "890"
      ],
      "text/markdown": [
       "890"
      ],
      "text/plain": [
       "[1] 890"
      ]
     },
     "metadata": {},
     "output_type": "display_data"
    },
    {
     "data": {
      "text/html": [
       "2639"
      ],
      "text/latex": [
       "2639"
      ],
      "text/markdown": [
       "2639"
      ],
      "text/plain": [
       "[1] 2639"
      ]
     },
     "metadata": {},
     "output_type": "display_data"
    }
   ],
   "source": [
    "nrow(UserLearningStats)\n",
    "sum(UserLearningStats$learning_ratio <= 0.90)\n",
    "sum(UserLearningStats$learning_ratio > 0.90)"
   ]
  },
  {
   "cell_type": "markdown",
   "metadata": {},
   "source": [
    "So we see that about a quarter of users have a learning ratio of less than 0.90. We can thus classify these users as players, whereas the rest as learners. But we should take into account total number of users available in UserLearningStats. Compared to UserData, UserLearningStats have 42 fewer observations. Let's take a look at these observations."
   ]
  },
  {
   "cell_type": "code",
   "execution_count": 21,
   "metadata": {},
   "outputs": [
    {
     "data": {
      "text/html": [
       "<table>\n",
       "<thead><tr><th></th><th scope=col>user_id</th><th scope=col>expertise_level</th><th scope=col>success_rate</th></tr></thead>\n",
       "<tbody>\n",
       "\t<tr><th scope=row>6</th><td>user_3177   </td><td>intermediate</td><td>0.33        </td></tr>\n",
       "\t<tr><th scope=row>155</th><td>user_2823   </td><td>beginner    </td><td>0.00        </td></tr>\n",
       "\t<tr><th scope=row>207</th><td>user_3427   </td><td>beginner    </td><td>0.29        </td></tr>\n",
       "\t<tr><th scope=row>336</th><td>user_2370   </td><td>beginner    </td><td>0.00        </td></tr>\n",
       "\t<tr><th scope=row>353</th><td>user_2703   </td><td>intermediate</td><td>0.00        </td></tr>\n",
       "\t<tr><th scope=row>372</th><td>user_1518   </td><td>beginner    </td><td>0.00        </td></tr>\n",
       "\t<tr><th scope=row>598</th><td>user_3084   </td><td>beginner    </td><td>0.00        </td></tr>\n",
       "\t<tr><th scope=row>600</th><td>user_2209   </td><td>beginner    </td><td>0.00        </td></tr>\n",
       "\t<tr><th scope=row>616</th><td>user_1726   </td><td>intermediate</td><td>1.00        </td></tr>\n",
       "\t<tr><th scope=row>785</th><td>user_181    </td><td>beginner    </td><td>0.43        </td></tr>\n",
       "\t<tr><th scope=row>849</th><td>user_2210   </td><td>beginner    </td><td>0.00        </td></tr>\n",
       "\t<tr><th scope=row>1052</th><td>user_3384   </td><td>intermediate</td><td>0.50        </td></tr>\n",
       "\t<tr><th scope=row>1135</th><td>user_927    </td><td>beginner    </td><td>0.00        </td></tr>\n",
       "\t<tr><th scope=row>1136</th><td>user_3292   </td><td>beginner    </td><td>0.00        </td></tr>\n",
       "\t<tr><th scope=row>1148</th><td>user_1437   </td><td>beginner    </td><td>0.00        </td></tr>\n",
       "\t<tr><th scope=row>1366</th><td>user_3351   </td><td>beginner    </td><td>0.00        </td></tr>\n",
       "\t<tr><th scope=row>1409</th><td>user_1413   </td><td>beginner    </td><td>0.50        </td></tr>\n",
       "\t<tr><th scope=row>1454</th><td>user_3101   </td><td>beginner    </td><td>0.00        </td></tr>\n",
       "\t<tr><th scope=row>1547</th><td>user_1186   </td><td>beginner    </td><td>0.00        </td></tr>\n",
       "\t<tr><th scope=row>1580</th><td>user_780    </td><td>beginner    </td><td>0.00        </td></tr>\n",
       "\t<tr><th scope=row>1808</th><td>user_517    </td><td>beginner    </td><td>0.00        </td></tr>\n",
       "\t<tr><th scope=row>1887</th><td>user_697    </td><td>beginner    </td><td>0.09        </td></tr>\n",
       "\t<tr><th scope=row>1937</th><td>user_2973   </td><td>beginner    </td><td>0.00        </td></tr>\n",
       "\t<tr><th scope=row>2085</th><td>user_3389   </td><td>intermediate</td><td>1.00        </td></tr>\n",
       "\t<tr><th scope=row>2132</th><td>user_3544   </td><td>beginner    </td><td>0.00        </td></tr>\n",
       "\t<tr><th scope=row>2160</th><td>user_278    </td><td>beginner    </td><td>0.00        </td></tr>\n",
       "\t<tr><th scope=row>2203</th><td>user_3244   </td><td>beginner    </td><td>0.00        </td></tr>\n",
       "\t<tr><th scope=row>2249</th><td>user_742    </td><td>beginner    </td><td>0.25        </td></tr>\n",
       "\t<tr><th scope=row>2305</th><td>user_2565   </td><td>beginner    </td><td>0.00        </td></tr>\n",
       "\t<tr><th scope=row>2631</th><td>user_775    </td><td>beginner    </td><td>0.33        </td></tr>\n",
       "\t<tr><th scope=row>2735</th><td>user_2712   </td><td>beginner    </td><td>0.00        </td></tr>\n",
       "\t<tr><th scope=row>2756</th><td>user_140    </td><td>beginner    </td><td>0.00        </td></tr>\n",
       "\t<tr><th scope=row>2939</th><td>user_1227   </td><td>beginner    </td><td>0.00        </td></tr>\n",
       "\t<tr><th scope=row>3070</th><td>user_29     </td><td>beginner    </td><td>0.33        </td></tr>\n",
       "\t<tr><th scope=row>3100</th><td>user_230    </td><td>beginner    </td><td>0.00        </td></tr>\n",
       "\t<tr><th scope=row>3137</th><td>user_1328   </td><td>beginner    </td><td>0.00        </td></tr>\n",
       "\t<tr><th scope=row>3189</th><td>user_2551   </td><td>beginner    </td><td>0.00        </td></tr>\n",
       "\t<tr><th scope=row>3216</th><td>user_2452   </td><td>beginner    </td><td>0.00        </td></tr>\n",
       "\t<tr><th scope=row>3254</th><td>user_1816   </td><td>beginner    </td><td>0.00        </td></tr>\n",
       "\t<tr><th scope=row>3285</th><td>user_2523   </td><td>intermediate</td><td>1.00        </td></tr>\n",
       "\t<tr><th scope=row>3330</th><td>user_2081   </td><td>beginner    </td><td>0.00        </td></tr>\n",
       "\t<tr><th scope=row>3397</th><td>user_3470   </td><td>beginner    </td><td>0.00        </td></tr>\n",
       "</tbody>\n",
       "</table>\n"
      ],
      "text/latex": [
       "\\begin{tabular}{r|lll}\n",
       "  & user\\_id & expertise\\_level & success\\_rate\\\\\n",
       "\\hline\n",
       "\t6 & user\\_3177  & intermediate & 0.33        \\\\\n",
       "\t155 & user\\_2823  & beginner     & 0.00        \\\\\n",
       "\t207 & user\\_3427  & beginner     & 0.29        \\\\\n",
       "\t336 & user\\_2370  & beginner     & 0.00        \\\\\n",
       "\t353 & user\\_2703  & intermediate & 0.00        \\\\\n",
       "\t372 & user\\_1518  & beginner     & 0.00        \\\\\n",
       "\t598 & user\\_3084  & beginner     & 0.00        \\\\\n",
       "\t600 & user\\_2209  & beginner     & 0.00        \\\\\n",
       "\t616 & user\\_1726  & intermediate & 1.00        \\\\\n",
       "\t785 & user\\_181   & beginner     & 0.43        \\\\\n",
       "\t849 & user\\_2210  & beginner     & 0.00        \\\\\n",
       "\t1052 & user\\_3384  & intermediate & 0.50        \\\\\n",
       "\t1135 & user\\_927   & beginner     & 0.00        \\\\\n",
       "\t1136 & user\\_3292  & beginner     & 0.00        \\\\\n",
       "\t1148 & user\\_1437  & beginner     & 0.00        \\\\\n",
       "\t1366 & user\\_3351  & beginner     & 0.00        \\\\\n",
       "\t1409 & user\\_1413  & beginner     & 0.50        \\\\\n",
       "\t1454 & user\\_3101  & beginner     & 0.00        \\\\\n",
       "\t1547 & user\\_1186  & beginner     & 0.00        \\\\\n",
       "\t1580 & user\\_780   & beginner     & 0.00        \\\\\n",
       "\t1808 & user\\_517   & beginner     & 0.00        \\\\\n",
       "\t1887 & user\\_697   & beginner     & 0.09        \\\\\n",
       "\t1937 & user\\_2973  & beginner     & 0.00        \\\\\n",
       "\t2085 & user\\_3389  & intermediate & 1.00        \\\\\n",
       "\t2132 & user\\_3544  & beginner     & 0.00        \\\\\n",
       "\t2160 & user\\_278   & beginner     & 0.00        \\\\\n",
       "\t2203 & user\\_3244  & beginner     & 0.00        \\\\\n",
       "\t2249 & user\\_742   & beginner     & 0.25        \\\\\n",
       "\t2305 & user\\_2565  & beginner     & 0.00        \\\\\n",
       "\t2631 & user\\_775   & beginner     & 0.33        \\\\\n",
       "\t2735 & user\\_2712  & beginner     & 0.00        \\\\\n",
       "\t2756 & user\\_140   & beginner     & 0.00        \\\\\n",
       "\t2939 & user\\_1227  & beginner     & 0.00        \\\\\n",
       "\t3070 & user\\_29    & beginner     & 0.33        \\\\\n",
       "\t3100 & user\\_230   & beginner     & 0.00        \\\\\n",
       "\t3137 & user\\_1328  & beginner     & 0.00        \\\\\n",
       "\t3189 & user\\_2551  & beginner     & 0.00        \\\\\n",
       "\t3216 & user\\_2452  & beginner     & 0.00        \\\\\n",
       "\t3254 & user\\_1816  & beginner     & 0.00        \\\\\n",
       "\t3285 & user\\_2523  & intermediate & 1.00        \\\\\n",
       "\t3330 & user\\_2081  & beginner     & 0.00        \\\\\n",
       "\t3397 & user\\_3470  & beginner     & 0.00        \\\\\n",
       "\\end{tabular}\n"
      ],
      "text/markdown": [
       "\n",
       "| <!--/--> | user_id | expertise_level | success_rate | \n",
       "|---|---|---|---|---|---|---|---|---|---|---|---|---|---|---|---|---|---|---|---|---|---|---|---|---|---|---|---|---|---|---|---|---|---|---|---|---|---|---|---|---|---|\n",
       "| 6 | user_3177    | intermediate | 0.33         | \n",
       "| 155 | user_2823    | beginner     | 0.00         | \n",
       "| 207 | user_3427    | beginner     | 0.29         | \n",
       "| 336 | user_2370    | beginner     | 0.00         | \n",
       "| 353 | user_2703    | intermediate | 0.00         | \n",
       "| 372 | user_1518    | beginner     | 0.00         | \n",
       "| 598 | user_3084    | beginner     | 0.00         | \n",
       "| 600 | user_2209    | beginner     | 0.00         | \n",
       "| 616 | user_1726    | intermediate | 1.00         | \n",
       "| 785 | user_181     | beginner     | 0.43         | \n",
       "| 849 | user_2210    | beginner     | 0.00         | \n",
       "| 1052 | user_3384    | intermediate | 0.50         | \n",
       "| 1135 | user_927     | beginner     | 0.00         | \n",
       "| 1136 | user_3292    | beginner     | 0.00         | \n",
       "| 1148 | user_1437    | beginner     | 0.00         | \n",
       "| 1366 | user_3351    | beginner     | 0.00         | \n",
       "| 1409 | user_1413    | beginner     | 0.50         | \n",
       "| 1454 | user_3101    | beginner     | 0.00         | \n",
       "| 1547 | user_1186    | beginner     | 0.00         | \n",
       "| 1580 | user_780     | beginner     | 0.00         | \n",
       "| 1808 | user_517     | beginner     | 0.00         | \n",
       "| 1887 | user_697     | beginner     | 0.09         | \n",
       "| 1937 | user_2973    | beginner     | 0.00         | \n",
       "| 2085 | user_3389    | intermediate | 1.00         | \n",
       "| 2132 | user_3544    | beginner     | 0.00         | \n",
       "| 2160 | user_278     | beginner     | 0.00         | \n",
       "| 2203 | user_3244    | beginner     | 0.00         | \n",
       "| 2249 | user_742     | beginner     | 0.25         | \n",
       "| 2305 | user_2565    | beginner     | 0.00         | \n",
       "| 2631 | user_775     | beginner     | 0.33         | \n",
       "| 2735 | user_2712    | beginner     | 0.00         | \n",
       "| 2756 | user_140     | beginner     | 0.00         | \n",
       "| 2939 | user_1227    | beginner     | 0.00         | \n",
       "| 3070 | user_29      | beginner     | 0.33         | \n",
       "| 3100 | user_230     | beginner     | 0.00         | \n",
       "| 3137 | user_1328    | beginner     | 0.00         | \n",
       "| 3189 | user_2551    | beginner     | 0.00         | \n",
       "| 3216 | user_2452    | beginner     | 0.00         | \n",
       "| 3254 | user_1816    | beginner     | 0.00         | \n",
       "| 3285 | user_2523    | intermediate | 1.00         | \n",
       "| 3330 | user_2081    | beginner     | 0.00         | \n",
       "| 3397 | user_3470    | beginner     | 0.00         | \n",
       "\n",
       "\n"
      ],
      "text/plain": [
       "     user_id   expertise_level success_rate\n",
       "6    user_3177 intermediate    0.33        \n",
       "155  user_2823 beginner        0.00        \n",
       "207  user_3427 beginner        0.29        \n",
       "336  user_2370 beginner        0.00        \n",
       "353  user_2703 intermediate    0.00        \n",
       "372  user_1518 beginner        0.00        \n",
       "598  user_3084 beginner        0.00        \n",
       "600  user_2209 beginner        0.00        \n",
       "616  user_1726 intermediate    1.00        \n",
       "785  user_181  beginner        0.43        \n",
       "849  user_2210 beginner        0.00        \n",
       "1052 user_3384 intermediate    0.50        \n",
       "1135 user_927  beginner        0.00        \n",
       "1136 user_3292 beginner        0.00        \n",
       "1148 user_1437 beginner        0.00        \n",
       "1366 user_3351 beginner        0.00        \n",
       "1409 user_1413 beginner        0.50        \n",
       "1454 user_3101 beginner        0.00        \n",
       "1547 user_1186 beginner        0.00        \n",
       "1580 user_780  beginner        0.00        \n",
       "1808 user_517  beginner        0.00        \n",
       "1887 user_697  beginner        0.09        \n",
       "1937 user_2973 beginner        0.00        \n",
       "2085 user_3389 intermediate    1.00        \n",
       "2132 user_3544 beginner        0.00        \n",
       "2160 user_278  beginner        0.00        \n",
       "2203 user_3244 beginner        0.00        \n",
       "2249 user_742  beginner        0.25        \n",
       "2305 user_2565 beginner        0.00        \n",
       "2631 user_775  beginner        0.33        \n",
       "2735 user_2712 beginner        0.00        \n",
       "2756 user_140  beginner        0.00        \n",
       "2939 user_1227 beginner        0.00        \n",
       "3070 user_29   beginner        0.33        \n",
       "3100 user_230  beginner        0.00        \n",
       "3137 user_1328 beginner        0.00        \n",
       "3189 user_2551 beginner        0.00        \n",
       "3216 user_2452 beginner        0.00        \n",
       "3254 user_1816 beginner        0.00        \n",
       "3285 user_2523 intermediate    1.00        \n",
       "3330 user_2081 beginner        0.00        \n",
       "3397 user_3470 beginner        0.00        "
      ]
     },
     "metadata": {},
     "output_type": "display_data"
    },
    {
     "data": {
      "text/html": [
       "42"
      ],
      "text/latex": [
       "42"
      ],
      "text/markdown": [
       "42"
      ],
      "text/plain": [
       "[1] 42"
      ]
     },
     "metadata": {},
     "output_type": "display_data"
    }
   ],
   "source": [
    "#Select all such user_id that are not present in UserLearningStats\n",
    "subset(UserData, !(user_id %in% UserLearningStats$user_id))\n",
    "nrow(subset(UserData, !(user_id %in% UserLearningStats$user_id)))"
   ]
  },
  {
   "cell_type": "markdown",
   "metadata": {},
   "source": [
    "We can see that all the 42 missing observations are accounted for and that most of these missing observations have a success_rate of 0.00 i.e. they haven't made any submissions and that they are beginners. As for the users that have a non-zero success_rate, their absence may be attributed to observation error at the source. It seems wiser to drop these observations from our UserData. We will handle \"cold start\" separately in our recommendation engine."
   ]
  },
  {
   "cell_type": "code",
   "execution_count": 22,
   "metadata": {},
   "outputs": [],
   "source": [
    "#Drop missing observations from UserData\n",
    "UserData = subset(UserData, (user_id %in% UserLearningStats$user_id))"
   ]
  },
  {
   "cell_type": "markdown",
   "metadata": {},
   "source": [
    "Now we shall create a new attribute/variable in UserData that tells us if a user is a player or a learner."
   ]
  },
  {
   "cell_type": "code",
   "execution_count": 23,
   "metadata": {},
   "outputs": [],
   "source": [
    "UserData =  UserData %>%\n",
    "            left_join(UserLearningStats, by = (\"user_id\" = \"user_id\")) %>%\n",
    "            mutate(learner_player =  ifelse(learning_ratio <= 0.90, \"player\", \"learner\")) %>%\n",
    "            select(user_id, success_rate, expertise_level, learner_player)"
   ]
  },
  {
   "cell_type": "markdown",
   "metadata": {},
   "source": [
    "Lastly, we have to make a new feature of whether a user is on the verge of leveling up. The reason I intend to add this feature is because my aim over here is that if a user is close to leveling up then he should be recommended problems of the next level or maybe problems with higher points so that he can move on to the next level. Before we go ahead with this,  we must determine what attribute of a user determines his expertise level strongly. Intuitively, it can be either a high success rate or points earned. Thus we first determine the total points the user has earned."
   ]
  },
  {
   "cell_type": "code",
   "execution_count": 24,
   "metadata": {},
   "outputs": [],
   "source": [
    "#Get points for each problem\n",
    "SubmissionsData = ProblemData %>%\n",
    "                    select(problem_id, points) %>%\n",
    "                    right_join(SubmissionsData, by = c(\"problem_id\" = \"problem_id\")) %>%\n",
    "                    select(user_id, problem_id, has_tags, points)"
   ]
  },
  {
   "cell_type": "code",
   "execution_count": 25,
   "metadata": {},
   "outputs": [
    {
     "data": {
      "text/html": [
       "<table>\n",
       "<thead><tr><th scope=col>user_id</th><th scope=col>success_rate</th><th scope=col>total_points</th><th scope=col>expertise_level</th><th scope=col>learner_player</th></tr></thead>\n",
       "<tbody>\n",
       "\t<tr><td>user_3311   </td><td>0.85        </td><td>17750       </td><td>intermediate</td><td>learner     </td></tr>\n",
       "\t<tr><td>user_3028   </td><td>0.83        </td><td>19500       </td><td>intermediate</td><td>learner     </td></tr>\n",
       "\t<tr><td>user_2268   </td><td>0.90        </td><td>25750       </td><td>beginner    </td><td>learner     </td></tr>\n",
       "\t<tr><td>user_480    </td><td>0.80        </td><td>26000       </td><td>advanced    </td><td>learner     </td></tr>\n",
       "\t<tr><td>user_650    </td><td>0.95        </td><td>47250       </td><td>advanced    </td><td>learner     </td></tr>\n",
       "\t<tr><td>user_2032   </td><td>0.92        </td><td>39250       </td><td>intermediate</td><td>learner     </td></tr>\n",
       "</tbody>\n",
       "</table>\n"
      ],
      "text/latex": [
       "\\begin{tabular}{r|lllll}\n",
       " user\\_id & success\\_rate & total\\_points & expertise\\_level & learner\\_player\\\\\n",
       "\\hline\n",
       "\t user\\_3311  & 0.85         & 17750        & intermediate & learner     \\\\\n",
       "\t user\\_3028  & 0.83         & 19500        & intermediate & learner     \\\\\n",
       "\t user\\_2268  & 0.90         & 25750        & beginner     & learner     \\\\\n",
       "\t user\\_480   & 0.80         & 26000        & advanced     & learner     \\\\\n",
       "\t user\\_650   & 0.95         & 47250        & advanced     & learner     \\\\\n",
       "\t user\\_2032  & 0.92         & 39250        & intermediate & learner     \\\\\n",
       "\\end{tabular}\n"
      ],
      "text/markdown": [
       "\n",
       "user_id | success_rate | total_points | expertise_level | learner_player | \n",
       "|---|---|---|---|---|---|\n",
       "| user_3311    | 0.85         | 17750        | intermediate | learner      | \n",
       "| user_3028    | 0.83         | 19500        | intermediate | learner      | \n",
       "| user_2268    | 0.90         | 25750        | beginner     | learner      | \n",
       "| user_480     | 0.80         | 26000        | advanced     | learner      | \n",
       "| user_650     | 0.95         | 47250        | advanced     | learner      | \n",
       "| user_2032    | 0.92         | 39250        | intermediate | learner      | \n",
       "\n",
       "\n"
      ],
      "text/plain": [
       "  user_id   success_rate total_points expertise_level learner_player\n",
       "1 user_3311 0.85         17750        intermediate    learner       \n",
       "2 user_3028 0.83         19500        intermediate    learner       \n",
       "3 user_2268 0.90         25750        beginner        learner       \n",
       "4 user_480  0.80         26000        advanced        learner       \n",
       "5 user_650  0.95         47250        advanced        learner       \n",
       "6 user_2032 0.92         39250        intermediate    learner       "
      ]
     },
     "metadata": {},
     "output_type": "display_data"
    }
   ],
   "source": [
    "#Get total points earned by users\n",
    "UserData = SubmissionsData %>%\n",
    "    group_by(user_id) %>%\n",
    "    summarize(total_points = sum(points)) %>%\n",
    "    distinct() %>%\n",
    "    right_join(UserData, by = (\"user_id\" = \"user_id\")) %>%\n",
    "    select(user_id, success_rate, total_points, expertise_level, learner_player)\n",
    "\n",
    "head(UserData)"
   ]
  },
  {
   "cell_type": "markdown",
   "metadata": {},
   "source": [
    "To determine which of the attributes better define an expertise level, we will first plot boxplots. We'll use ggplot2 library for this."
   ]
  },
  {
   "cell_type": "code",
   "execution_count": 26,
   "metadata": {},
   "outputs": [
    {
     "name": "stderr",
     "output_type": "stream",
     "text": [
      "Warning message:\n",
      "“package ‘ggplot2’ was built under R version 3.4.4”"
     ]
    },
    {
     "data": {},
     "metadata": {},
     "output_type": "display_data"
    },
    {
     "data": {
      "image/png": "[encoded data removed]",
      "text/plain": [
       "plot without title"
      ]
     },
     "metadata": {},
     "output_type": "display_data"
    }
   ],
   "source": [
    "#Library for plotting\n",
    "library(ggplot2)\n",
    "\n",
    "#Creating factors for expertise level\n",
    "UserData$expertise_level = factor(UserData$expertise_level, levels = c(\"beginner\", \"intermediate\", \"advanced\", \"expert\"))\n",
    "\n",
    "ggplot(data = UserData, aes(x=expertise_level, y=success_rate)) + geom_boxplot() + xlab(\"Expertise Levels\") + ylab(\"Success Rate\") + ggtitle(\"Boxplot of Success Rate by Expertise Levels\")"
   ]
  },
  {
   "cell_type": "code",
   "execution_count": 27,
   "metadata": {},
   "outputs": [
    {
     "data": {},
     "metadata": {},
     "output_type": "display_data"
    },
    {
     "data": {
      "image/png": "[encoded data removed]",
      "text/plain": [
       "plot without title"
      ]
     },
     "metadata": {},
     "output_type": "display_data"
    }
   ],
   "source": [
    "ggplot(data = UserData, aes(x=expertise_level, y=total_points)) + geom_boxplot() + xlab(\"Expertise Levels\") + ylab(\"Points\") + ggtitle(\"Boxplot of Points earned by Expertise Levels\")"
   ]
  },
  {
   "cell_type": "markdown",
   "metadata": {},
   "source": [
    "From boxplots it becomes evident that points help distinguish between expertise levels better than success rate. This inference is drawn based on the fact that the boxplots are less overlapped and have a more visible increase in the range of values for each level in the second plot of points. So we'll choose points as a determining factor for leveling up. But we still have a problem of outliers. While the first plot has fewer outliers, it has far more overlapping hence we'll treat the values of points for outliers and then plot the boxplots to see the results.\n",
    "\n",
    "We'll use capping process to deal with outliers. The outlier values that lie outside the 1.5 * IQR limits, will be capped by replacing those observations outside the lower limit with the value of 5th %ile and those that lie above the upper limit, with the value of 95th %ile."
   ]
  },
  {
   "cell_type": "code",
   "execution_count": 28,
   "metadata": {},
   "outputs": [],
   "source": [
    "#Function for capping outliers\n",
    "capOutliers = function(x){\n",
    "    quantiles = quantile( x, c(.05, .95 ) )\n",
    "    x[x < quantiles[1]] = quantiles[1]\n",
    "    x[x > quantiles[2]] = quantiles[2]\n",
    "    x\n",
    "}\n",
    "\n",
    "#Capping beginner level's points\n",
    "beginnerData = subset(UserData, expertise_level == \"beginner\", select = c(user_id, expertise_level, success_rate, total_points, learner_player))\n",
    "beginnerData$total_points = capOutliers(beginnerData$total_points)\n",
    "\n",
    "#Capping intermediate level's points\n",
    "intermediateData = subset(UserData, expertise_level == \"intermediate\", select = c(user_id, expertise_level, success_rate, total_points, learner_player))\n",
    "intermediateData$total_points = capOutliers(intermediateData$total_points)\n",
    "\n",
    "#Capping advanced level's points\n",
    "advancedData = subset(UserData, expertise_level == \"advanced\", select = c(user_id, expertise_level, success_rate, total_points, learner_player))\n",
    "advancedData$total_points = capOutliers(advancedData$total_points)\n",
    "\n",
    "#Capping expert level's points\n",
    "expertData = subset(UserData, expertise_level == \"expert\", select = c(user_id, expertise_level, success_rate, total_points, learner_player))\n",
    "expertData$total_points = capOutliers(expertData$total_points)"
   ]
  },
  {
   "cell_type": "code",
   "execution_count": 29,
   "metadata": {},
   "outputs": [
    {
     "data": {},
     "metadata": {},
     "output_type": "display_data"
    },
    {
     "data": {
      "image/png": "[encoded data removed]",
      "text/plain": [
       "plot without title"
      ]
     },
     "metadata": {},
     "output_type": "display_data"
    }
   ],
   "source": [
    "#Combining all capped data for different levels\n",
    "cappedData = rbind(beginnerData, intermediateData, advancedData, expertData)\n",
    "ggplot(data = cappedData, aes(x=expertise_level, y=total_points)) + geom_boxplot() + xlab(\"Expertise Levels\") + ylab(\"Points\") + ggtitle(\"Boxplot of Points earned by Expertise Levels (capped points)\")"
   ]
  },
  {
   "cell_type": "markdown",
   "metadata": {},
   "source": [
    "On close inspection of the boxplots it becomes evident that even after capping the outliers we do not get well-defined levels of points that completely distinguish different expertise levels. There is definitely some distinction in the points for each expertise level but there's also visible overlapping. From this it can be inferred that there may be other factors besides the points that determine the expertise level of a user which is clearly not available in the given data. To deal with this in the recommendation, we will have to specifically handle the overlapping values or the \"grey areas\", if you will. Initially I had thought that maybe a simple variable that indicated whether the points of the user was close to the next level would be sufficient but in the given scenario that's not possible. The new variable \"level_up\" will depict the above information which will prove helpful in recommendation. But first we'll have to observe the quartiles of each of the levels and then proceed to define a new feature in UserData."
   ]
  },
  {
   "cell_type": "code",
   "execution_count": 30,
   "metadata": {},
   "outputs": [
    {
     "data": {
      "text/plain": [
       "   Min. 1st Qu.  Median    Mean 3rd Qu.    Max. \n",
       "   1500    7250   15500   15631   22250   34500 "
      ]
     },
     "metadata": {},
     "output_type": "display_data"
    },
    {
     "data": {
      "text/plain": [
       "   Min. 1st Qu.  Median    Mean 3rd Qu.    Max. \n",
       "   5500   21000   28250   28767   37000   52500 "
      ]
     },
     "metadata": {},
     "output_type": "display_data"
    },
    {
     "data": {
      "text/plain": [
       "   Min. 1st Qu.  Median    Mean 3rd Qu.    Max. \n",
       "  20000   32750   42500   43560   52938   71662 "
      ]
     },
     "metadata": {},
     "output_type": "display_data"
    },
    {
     "data": {
      "text/plain": [
       "   Min. 1st Qu.  Median    Mean 3rd Qu.    Max. \n",
       "  33025   48062   59375   61083   73938   92988 "
      ]
     },
     "metadata": {},
     "output_type": "display_data"
    }
   ],
   "source": [
    "summary(beginnerData$total_points)\n",
    "summary(intermediateData$total_points)\n",
    "summary(advancedData$total_points)\n",
    "summary(expertData$total_points)"
   ]
  },
  {
   "cell_type": "markdown",
   "metadata": {},
   "source": [
    "So now based on these values I will define the following values for the new feature:\n",
    "    1. FLTA - Far Less Than Average in this expertise level\n",
    "    2. LTA - Less Than Average in this expertise level\n",
    "    3. GTA - Greater Than Average in this expertise level\n",
    "    4. FGTA - Far Greater Than Average in this expertise level\n",
    "    \n",
    "I will also change the name of this new feature from level_up to level_of_points. Now for recommendations I propose the following hypothesis:\n",
    "\n",
    "1. For every expertise level, users with less than average points in the individual domains of FLTA, LTA, and GTA, must be recommended unsolved problems that other users of the domain have solved.\n",
    "\n",
    "2. For \"expert\" expertise level, users with less than average points in the individual domain of FGTA, must be recommended unsolved problems that other users of the domain have solved. \n",
    "\n",
    "3. For every expertise level, users with greater than average points in the domain of FLTA, must be recommended with problems solved by users of the LTA domain for that expertise level.\n",
    "\n",
    "4. For every expertise level, users with greater than average points in the domain of LTA, must be recommended with problems solved by users of the GTA domain for that expertise level.\n",
    "\n",
    "5. For every expertise level, besides the \"expert\" level, users with greater than average points in the domain of GTA, must be recommended with problems solved by users of the LTA domain for the next expertise level.\n",
    "\n",
    "6. For every expertise level, besides the \"expert\" level, users with points in the domain of FGTA must be recommended with problems solved by the users of the GTA domain of next expertise level. \n",
    "\n",
    "7. For \"expert\" level, users with greater than average points in domains of GTA and FGTA must be recommended with unsolved problems that other users of that domain have solved.\n",
    "\n",
    "Let's proceed with each of the level individually."
   ]
  },
  {
   "cell_type": "code",
   "execution_count": 31,
   "metadata": {},
   "outputs": [
    {
     "name": "stderr",
     "output_type": "stream",
     "text": [
      "Warning message:\n",
      "“Unknown or uninitialised column: 'level_of_points'.”Warning message:\n",
      "“Unknown or uninitialised column: 'level_of_points'.”Warning message:\n",
      "“Unknown or uninitialised column: 'level_of_points'.”Warning message:\n",
      "“Unknown or uninitialised column: 'level_of_points'.”"
     ]
    },
    {
     "data": {
      "text/html": [
       "<table>\n",
       "<thead><tr><th scope=col>user_id</th><th scope=col>expertise_level</th><th scope=col>success_rate</th><th scope=col>total_points</th><th scope=col>learner_player</th><th scope=col>level_of_points</th></tr></thead>\n",
       "<tbody>\n",
       "\t<tr><td>user_2268</td><td>beginner </td><td>0.90     </td><td>25750    </td><td>learner  </td><td>FGTA     </td></tr>\n",
       "\t<tr><td>user_3306</td><td>beginner </td><td>0.50     </td><td> 1500    </td><td>learner  </td><td>FLTA     </td></tr>\n",
       "\t<tr><td>user_1483</td><td>beginner </td><td>0.87     </td><td>26500    </td><td>learner  </td><td>FGTA     </td></tr>\n",
       "\t<tr><td>user_1972</td><td>beginner </td><td>0.93     </td><td>19000    </td><td>learner  </td><td>GTA      </td></tr>\n",
       "\t<tr><td>user_3031</td><td>beginner </td><td>0.94     </td><td>34500    </td><td>player   </td><td>FGTA     </td></tr>\n",
       "\t<tr><td>user_1258</td><td>beginner </td><td>0.91     </td><td>21000    </td><td>player   </td><td>GTA      </td></tr>\n",
       "</tbody>\n",
       "</table>\n"
      ],
      "text/latex": [
       "\\begin{tabular}{r|llllll}\n",
       " user\\_id & expertise\\_level & success\\_rate & total\\_points & learner\\_player & level\\_of\\_points\\\\\n",
       "\\hline\n",
       "\t user\\_2268 & beginner    & 0.90        & 25750       & learner     & FGTA       \\\\\n",
       "\t user\\_3306 & beginner    & 0.50        &  1500       & learner     & FLTA       \\\\\n",
       "\t user\\_1483 & beginner    & 0.87        & 26500       & learner     & FGTA       \\\\\n",
       "\t user\\_1972 & beginner    & 0.93        & 19000       & learner     & GTA        \\\\\n",
       "\t user\\_3031 & beginner    & 0.94        & 34500       & player      & FGTA       \\\\\n",
       "\t user\\_1258 & beginner    & 0.91        & 21000       & player      & GTA        \\\\\n",
       "\\end{tabular}\n"
      ],
      "text/markdown": [
       "\n",
       "user_id | expertise_level | success_rate | total_points | learner_player | level_of_points | \n",
       "|---|---|---|---|---|---|\n",
       "| user_2268 | beginner  | 0.90      | 25750     | learner   | FGTA      | \n",
       "| user_3306 | beginner  | 0.50      |  1500     | learner   | FLTA      | \n",
       "| user_1483 | beginner  | 0.87      | 26500     | learner   | FGTA      | \n",
       "| user_1972 | beginner  | 0.93      | 19000     | learner   | GTA       | \n",
       "| user_3031 | beginner  | 0.94      | 34500     | player    | FGTA      | \n",
       "| user_1258 | beginner  | 0.91      | 21000     | player    | GTA       | \n",
       "\n",
       "\n"
      ],
      "text/plain": [
       "  user_id   expertise_level success_rate total_points learner_player\n",
       "1 user_2268 beginner        0.90         25750        learner       \n",
       "2 user_3306 beginner        0.50          1500        learner       \n",
       "3 user_1483 beginner        0.87         26500        learner       \n",
       "4 user_1972 beginner        0.93         19000        learner       \n",
       "5 user_3031 beginner        0.94         34500        player        \n",
       "6 user_1258 beginner        0.91         21000        player        \n",
       "  level_of_points\n",
       "1 FGTA           \n",
       "2 FLTA           \n",
       "3 FGTA           \n",
       "4 GTA            \n",
       "5 FGTA           \n",
       "6 GTA            "
      ]
     },
     "metadata": {},
     "output_type": "display_data"
    }
   ],
   "source": [
    "#Beginner level\n",
    "beginnerData$level_of_points[beginnerData$total_points <= 7250] = \"FLTA\"\n",
    "beginnerData$level_of_points[beginnerData$total_points > 7250 & beginnerData$total_points <= 15631] = \"LTA\"\n",
    "beginnerData$level_of_points[beginnerData$total_points > 15631 & beginnerData$total_points <= 22250] = \"GTA\"\n",
    "beginnerData$level_of_points[beginnerData$total_points > 22250] = \"FGTA\"\n",
    "\n",
    "#Intermediate level\n",
    "intermediateData$level_of_points[intermediateData$total_points <= 21000] = \"FLTA\"\n",
    "intermediateData$level_of_points[intermediateData$total_points > 21000 & intermediateData$total_points <= 28767] = \"LTA\"\n",
    "intermediateData$level_of_points[intermediateData$total_points > 28767 & intermediateData$total_points <= 37000] = \"GTA\"\n",
    "intermediateData$level_of_points[intermediateData$total_points > 37000] = \"FGTA\"\n",
    "\n",
    "#Advanced level\n",
    "advancedData$level_of_points[advancedData$total_points <= 32750] = \"FLTA\"\n",
    "advancedData$level_of_points[advancedData$total_points > 32750 & advancedData$total_points <= 43560] = \"LTA\"\n",
    "advancedData$level_of_points[advancedData$total_points > 43560 & advancedData$total_points <= 52938] = \"GTA\"\n",
    "advancedData$level_of_points[advancedData$total_points > 52938] = \"FGTA\"\n",
    "\n",
    "#Expert level\n",
    "expertData$level_of_points[expertData$total_points <= 48062] = \"FLTA\"\n",
    "expertData$level_of_points[expertData$total_points > 48062 & expertData$total_points <= 61083] = \"LTA\"\n",
    "expertData$level_of_points[expertData$total_points > 61083 & expertData$total_points <= 73938] = \"GTA\"\n",
    "expertData$level_of_points[expertData$total_points > 73938] = \"FGTA\"\n",
    "\n",
    "#Combining all the dataframes and overriding the original\n",
    "UserData = rbind(beginnerData, intermediateData, advancedData, expertData)\n",
    "head(UserData)\n",
    "\n",
    "#Writing all files to csv\n",
    "write.csv(UserData, \"data/ProcessedUserData.csv\", row.names=FALSE)\n",
    "write.csv(ProblemData, \"data/ProcessedProblemData.csv\", row.names=FALSE)\n",
    "write.csv(SubmissionsData, \"data/ProcessedSubmissionsData.csv\", row.names=FALSE)"
   ]
  },
  {
   "cell_type": "markdown",
   "metadata": {},
   "source": [
    "Now that the data cleaning and pre-processing is complete we can move on to building our model (next IPython Notebook). We've saved all the processed dataframes into csv files to be used later."
   ]
  }
 ],
 "metadata": {
  "kernelspec": {
   "display_name": "R",
   "language": "R",
   "name": "ir"
  },
  "language_info": {
   "codemirror_mode": "r",
   "file_extension": ".r",
   "mimetype": "text/x-r-source",
   "name": "R",
   "pygments_lexer": "r",
   "version": "3.4.3"
  }
 },
 "nbformat": 4,
 "nbformat_minor": 2
}
